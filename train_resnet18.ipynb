{
 "cells": [
  {
   "cell_type": "code",
   "execution_count": 1,
   "id": "f2f8369d",
   "metadata": {
    "scrolled": true
   },
   "outputs": [
    {
     "name": "stderr",
     "output_type": "stream",
     "text": [
      "2024-10-10 14:53:55.177185: I tensorflow/core/util/port.cc:110] oneDNN custom operations are on. You may see slightly different numerical results due to floating-point round-off errors from different computation orders. To turn them off, set the environment variable `TF_ENABLE_ONEDNN_OPTS=0`.\n",
      "2024-10-10 14:53:55.393005: I tensorflow/core/platform/cpu_feature_guard.cc:182] This TensorFlow binary is optimized to use available CPU instructions in performance-critical operations.\n",
      "To enable the following instructions: AVX2 AVX512F AVX512_VNNI AVX512_BF16 FMA, in other operations, rebuild TensorFlow with the appropriate compiler flags.\n",
      "2024-10-10 14:53:55.928487: W tensorflow/compiler/tf2tensorrt/utils/py_utils.cc:38] TF-TRT Warning: Could not find TensorRT\n"
     ]
    }
   ],
   "source": [
    "import os\n",
    "import math\n",
    "import pandas as pd\n",
    "import numpy as np\n",
    "from pathlib import Path\n",
    "import shutil\n",
    "import argparse\n",
    "from typing import List, Union\n",
    "import matplotlib.pyplot as plt\n",
    "import yaml\n",
    "from datetime import datetime\n",
    "import logging\n",
    "\n",
    "import torch\n",
    "from torch import Tensor, nn\n",
    "from torch.types import Device, _size\n",
    "from torch.nn.parameter import Parameter, UninitializedParameter\n",
    "from torch.nn import init\n",
    "from torch.utils.data import Dataset\n",
    "from torch.utils.data import ConcatDataset\n",
    "from torch.utils.data import DataLoader\n",
    "from torch.utils.tensorboard import SummaryWriter\n",
    "from collections import OrderedDict\n",
    "\n",
    "# from sklearn.preprocessing import StandardScaler\n",
    "# from sklearn.model_selection import train_test_split\n",
    "from configs.config import configs\n",
    "\n",
    "from models.resnet1D import *\n",
    "from models.pe import PositionalEncoding\n",
    "from models.transformer_encoder import transformer_classifier\n"
   ]
  },
  {
   "cell_type": "markdown",
   "id": "abdd69da",
   "metadata": {},
   "source": [
    "### Evaluate norm of tensor"
   ]
  },
  {
   "cell_type": "raw",
   "id": "c757178e",
   "metadata": {
    "scrolled": true
   },
   "source": [
    "conv_layer = nn.Conv1d(19, 19*2, kernel_size=3, groups=19, stride=2, padding=3, bias=False)\n",
    "print(conv_layer.weight,torch.norm(conv_layer.weight))\n",
    "nn.init.xavier_normal_(conv_layer.weight)\n",
    "print(conv_layer.weight, torch.norm(conv_layer.weight, dim=2))"
   ]
  },
  {
   "cell_type": "markdown",
   "id": "b320dd3e",
   "metadata": {},
   "source": [
    "### Initilization"
   ]
  },
  {
   "cell_type": "code",
   "execution_count": 2,
   "id": "cb628e7d",
   "metadata": {},
   "outputs": [
    {
     "name": "stderr",
     "output_type": "stream",
     "text": [
      "Current accuracy: %0.95\n",
      "INFO:__main__:Current accuracy: %0.95\n"
     ]
    }
   ],
   "source": [
    "# Init logging\n",
    "import logging\n",
    "\n",
    "logger = logging.getLogger(__name__)  # Use the current module's name\n",
    "logging.basicConfig(level=logging.DEBUG)\n",
    "# logger.setLevel(logging.DEBUG)\n",
    "handler = logging.StreamHandler()\n",
    "# formatter = logging.Formatter('%(asctime)s - %(levelname)s - %(message)s')\n",
    "# handler.setFormatter(formatter)\n",
    "logger.addHandler(handler)\n",
    "acc_example = 0.95  # Replace with your actual accuracy calculation\n",
    "logger.info(f\"Current accuracy: %{acc_example}\")  # Log as info\n",
    "# logger.debug(\"Current accuracy: %.2f\", accuracy)  # Log as info"
   ]
  },
  {
   "cell_type": "code",
   "execution_count": 3,
   "id": "535cc545",
   "metadata": {},
   "outputs": [],
   "source": [
    "parser = argparse.ArgumentParser()\n",
    "parser.add_argument(\"config_file\", metavar=\"FILE\", help=\"config file\")\n",
    "# parser.add_argument('--run-dir', metavar='DIR', help='run directory')\n",
    "# parser.add_argument('--pdb', action='store_true', help='pdb')\n",
    "args = parser.parse_args(args=['configs/abnormal_12000.yml'])\n",
    "# args, opts = parser.parse_known_args()\n",
    "# f = 'configs/eeg_pt.yml'\n",
    "with open(args.config_file, 'r') as file:\n",
    "    Configs = yaml.safe_load(file)"
   ]
  },
  {
   "cell_type": "raw",
   "id": "60dbe698",
   "metadata": {},
   "source": [
    "if Configs['checkpoint']['checkpoint_dir'] is not None:\n",
    "    print(Configs['checkpoint']['checkpoint_dir'])"
   ]
  },
  {
   "cell_type": "markdown",
   "id": "8c3852c0",
   "metadata": {},
   "source": [
    "### Load dataset"
   ]
  },
  {
   "cell_type": "code",
   "execution_count": 4,
   "id": "5b034725",
   "metadata": {},
   "outputs": [],
   "source": [
    "# transform signal\n",
    "def transform(data:Tensor, mean:Tensor, std:Tensor):\n",
    "    normalized_data = (data - mean) / std\n",
    "    return normalized_data"
   ]
  },
  {
   "cell_type": "code",
   "execution_count": 5,
   "id": "5e176c92",
   "metadata": {},
   "outputs": [],
   "source": [
    "class customDataset(Dataset):\n",
    "    def __init__(self, data_dir:str, label_dir:str, label_dict:dict, mean: list, std: list, transform=None):\n",
    "#         self.annotations = pd.read_csv(label_dir)\n",
    "        self.data_dir = data_dir   # './data/origin_csv/train'\n",
    "        self.label_dir = label_dir\n",
    "        self.transform = transform\n",
    "        self.files = os.listdir(self.data_dir)\n",
    "        self.annotations = pd.read_csv(self.label_dir)\n",
    "        self.label_dict = label_dict\n",
    "        self.mean = torch.tensor(mean)\n",
    "        self.std = torch.tensor(std)\n",
    "        \n",
    "    def __len__(self):\n",
    "        return len(self.files)\n",
    "    \n",
    "    def __getitem__(self, index):\n",
    "        data_path = os.path.join(self.data_dir, self.files[index])\n",
    "        data = pd.read_csv(data_path)\n",
    "        data = torch.tensor(data.values, dtype=torch.float32)\n",
    "        file_name = self.files[index]\n",
    "        \n",
    "        label = torch.tensor(int(self.label_dict[self.annotations.iloc[index,1]]))\n",
    "        \n",
    "        if self.transform:\n",
    "            data = self.transform(data, self.mean, self.std)\n",
    "            \n",
    "        return (data, label, file_name)"
   ]
  },
  {
   "cell_type": "raw",
   "id": "f9bc50d0",
   "metadata": {},
   "source": [
    "train_data_dir = Configs['dataset']['train_data_dir']\n",
    "train_label_dir = Configs['dataset']['train_label_dir']\n",
    "\n",
    "val_data_dir = Configs['dataset']['val_data_dir']\n",
    "val_label_dir = Configs['dataset']['val_label_dir']\n",
    "\n",
    "label_dict = Configs['dataset']['classes']\n",
    "\n",
    "mean =  Configs['dataset']['mean']\n",
    "std =  Configs['dataset']['std']\n",
    "\n",
    "\n",
    "\n",
    "train_loader = DataLoader(dataset=train_dataset, batch_size=Configs['train']['batch_size'],\n",
    "                              shuffle=True, num_workers=16, pin_memory=True)\n",
    "\n",
    "eval_loader = DataLoader(dataset=val_dataset, num_workers=16, shuffle=True, pin_memory=True)"
   ]
  },
  {
   "cell_type": "raw",
   "id": "36f53bbc",
   "metadata": {},
   "source": [
    "iter_train = iter(train_loader)\n",
    "data, target, file = next(iter_train)"
   ]
  },
  {
   "cell_type": "markdown",
   "id": "2c6de7e7",
   "metadata": {},
   "source": [
    "### Define model"
   ]
  },
  {
   "cell_type": "code",
   "execution_count": 6,
   "id": "78c47be1",
   "metadata": {},
   "outputs": [],
   "source": [
    "class model(nn.Module):\n",
    "    def __init__(self, input_size: int, n_channels: int, model_hyp: dict, classes: int):\n",
    "        super(model, self).__init__()\n",
    "        self.ae = resnet18(n_channels=n_channels, groups=n_channels, num_classes=classes, d_model=model_hyp['d_model'])\n",
    "        self.transformer_encoder = transformer_classifier(input_size, n_channels, model_hyp, classes)\n",
    "        self.reset_parameters()\n",
    "        \n",
    "    def reset_parameters(self):\n",
    "        r\"\"\"Initiate parameters in the model.\"\"\"\n",
    "        \n",
    "        for p in self.parameters():\n",
    "            if p.dim() > 1:\n",
    "#                 logger.debug(p.shape)\n",
    "                nn.init.xavier_uniform_(p)\n",
    "                    \n",
    "        for m in self.modules():\n",
    "#             print(m)\n",
    "            if isinstance(m, nn.Conv1d):\n",
    "                nn.init.xavier_uniform_(m.weight)\n",
    "                if m.bias is not None:\n",
    "                    nn.init.zeros_(m.bias)\n",
    "        \n",
    "            elif isinstance(m, nn.LayerNorm):\n",
    "                nn.init.ones_(m.weight)\n",
    "                nn.init.zeros_(m.bias)\n",
    "            elif isinstance(m, nn.Linear):\n",
    "                nn.init.xavier_uniform_(m.weight)\n",
    "                if m.bias is not None:\n",
    "                    nn.init.zeros_(m.bias)\n",
    "        print('Complete initiate parameters')\n",
    "\n",
    "    def forward(self, x):\n",
    "#         z = self.pe(x)\n",
    "        z = x.transpose(-1,-2)\n",
    "        z = self.ae(z)\n",
    "        z = self.transformer_encoder(z)\n",
    "        return z"
   ]
  },
  {
   "cell_type": "raw",
   "id": "35257f90",
   "metadata": {},
   "source": [
    "# test model\n",
    "batch = 16\n",
    "d_model = 19\n",
    "max_len = 12000\n",
    "x = torch.rand(batch, max_len, d_model)\n",
    "pe = model(input_size=Configs['input_size'],\n",
    "           n_channels = Configs['n_channels'],\n",
    "           model_hyp=Configs['model'],\n",
    "           classes=len(Configs['dataset']['classes']))\n",
    "           \n",
    "out = pe(x)"
   ]
  },
  {
   "cell_type": "code",
   "execution_count": 7,
   "id": "b5e7804f",
   "metadata": {
    "scrolled": false
   },
   "outputs": [
    {
     "name": "stdout",
     "output_type": "stream",
     "text": [
      "Complete initiate parameters\n"
     ]
    },
    {
     "name": "stderr",
     "output_type": "stream",
     "text": [
      "/home/yossi/.local/lib/python3.8/site-packages/transformers/utils/generic.py:482: UserWarning: torch.utils._pytree._register_pytree_node is deprecated. Please use torch.utils._pytree.register_pytree_node instead.\n",
      "  _torch_pytree._register_pytree_node(\n"
     ]
    }
   ],
   "source": [
    "train_data_dir = Configs['dataset']['train_data_dir']\n",
    "train_label_dir = Configs['dataset']['train_label_dir']\n",
    "\n",
    "val_data_dir = Configs['dataset']['val_data_dir']\n",
    "val_label_dir = Configs['dataset']['val_label_dir']\n",
    "\n",
    "label_dict = Configs['dataset']['classes']\n",
    "\n",
    "mean =  Configs['dataset']['mean']\n",
    "std =  Configs['dataset']['std']\n",
    "\n",
    "train_dataset = customDataset(data_dir=train_data_dir,\n",
    "                              label_dir=train_label_dir,\n",
    "                              label_dict=label_dict,\n",
    "                              mean=mean,\n",
    "                              std=std,\n",
    "                             transform=transform)\n",
    "val_dataset = customDataset(data_dir=val_data_dir,\n",
    "                            label_dir=val_label_dir,\n",
    "                            label_dict=label_dict,\n",
    "                            mean=mean,\n",
    "                            std=std,\n",
    "                           transform=transform)\n",
    "\n",
    "train_loader = DataLoader(dataset=train_dataset, batch_size=Configs['train']['batch_size'],\n",
    "                              shuffle=Configs['dataset']['shuffle'], \n",
    "                          num_workers=Configs['dataset']['num_workers'], pin_memory=True)\n",
    "\n",
    "eval_loader = DataLoader(dataset=val_dataset, num_workers=Configs['dataset']['num_workers'], \n",
    "                         shuffle=Configs['dataset']['shuffle'], pin_memory=True)\n",
    "\n",
    "# classifier = model(input_size=Configs['input_size'],\n",
    "#                                     n_channels = Configs['n_channels'],\n",
    "#                                     model_hyp=Configs['model'],\n",
    "#                                     classes=len(Configs['dataset']['classes'])).to('cuda')\n",
    "\n",
    "input_layer = nn.Sequential(\n",
    "#         nn.Embedding(num_embeddings=10000, embedding_dim=512),\n",
    "#         PositionalEncoding(d_model=512, dropout=0.1, max_len=5000)\n",
    "    PositionalEncoding(d_model=Configs['n_channels'], max_len=Configs['input_size'])\n",
    ").to('cuda')\n",
    "\n",
    "classifier = model(input_size=Configs['input_size'],\n",
    "                                        n_channels = Configs['n_channels'],\n",
    "                                        model_hyp=Configs['model'],\n",
    "                                        classes=len(Configs['dataset']['classes'])).to('cuda')\n",
    "optimizer = torch.optim.Adam(classifier.parameters(),betas=(0.9,0.999),lr=Configs['optimizer']['init_lr'])\n",
    "criterion = nn.CrossEntropyLoss()\n",
    "writer = SummaryWriter(Configs['tensorboard']['runs_dir']+'train_board')    # Initilize tensorflow"
   ]
  },
  {
   "cell_type": "code",
   "execution_count": 27,
   "id": "bec638b9",
   "metadata": {
    "scrolled": false
   },
   "outputs": [
    {
     "data": {
      "text/plain": [
       "ResNet(\n",
       "  (conv1): Conv1d(19, 152, kernel_size=(7,), stride=(2,), padding=(3,), groups=19, bias=False)\n",
       "  (ln1): LayerNorm((6000,), eps=1e-05, elementwise_affine=True)\n",
       "  (relu): ReLU(inplace=True)\n",
       "  (avgpool_1): AvgPool1d(kernel_size=(3,), stride=(2,), padding=(1,))\n",
       "  (layer1): Sequential(\n",
       "    (0): BasicBlock(\n",
       "      (conv1): Conv1d(152, 152, kernel_size=(3,), stride=(1,), padding=(1,), groups=19, bias=False)\n",
       "      (ln1): LayerNorm((3000,), eps=1e-05, elementwise_affine=True)\n",
       "      (relu): ReLU(inplace=True)\n",
       "      (conv2): Conv1d(152, 152, kernel_size=(3,), stride=(1,), padding=(1,), groups=19, bias=False)\n",
       "      (ln2): LayerNorm((3000,), eps=1e-05, elementwise_affine=True)\n",
       "    )\n",
       "    (1): BasicBlock(\n",
       "      (conv1): Conv1d(152, 152, kernel_size=(3,), stride=(1,), padding=(1,), groups=19, bias=False)\n",
       "      (ln1): LayerNorm((3000,), eps=1e-05, elementwise_affine=True)\n",
       "      (relu): ReLU(inplace=True)\n",
       "      (conv2): Conv1d(152, 152, kernel_size=(3,), stride=(1,), padding=(1,), groups=19, bias=False)\n",
       "      (ln2): LayerNorm((3000,), eps=1e-05, elementwise_affine=True)\n",
       "    )\n",
       "  )\n",
       "  (layer2): Sequential(\n",
       "    (0): BasicBlock(\n",
       "      (conv1): Conv1d(152, 304, kernel_size=(3,), stride=(2,), padding=(1,), groups=19, bias=False)\n",
       "      (ln1): LayerNorm((1500,), eps=1e-05, elementwise_affine=True)\n",
       "      (relu): ReLU(inplace=True)\n",
       "      (conv2): Conv1d(304, 304, kernel_size=(3,), stride=(1,), padding=(1,), groups=19, bias=False)\n",
       "      (ln2): LayerNorm((1500,), eps=1e-05, elementwise_affine=True)\n",
       "      (downsample): Sequential(\n",
       "        (0): Conv1d(152, 304, kernel_size=(1,), stride=(2,), groups=19, bias=False)\n",
       "        (1): LayerNorm((1500,), eps=1e-05, elementwise_affine=True)\n",
       "      )\n",
       "    )\n",
       "    (1): BasicBlock(\n",
       "      (conv1): Conv1d(304, 304, kernel_size=(3,), stride=(1,), padding=(1,), groups=19, bias=False)\n",
       "      (ln1): LayerNorm((1500,), eps=1e-05, elementwise_affine=True)\n",
       "      (relu): ReLU(inplace=True)\n",
       "      (conv2): Conv1d(304, 304, kernel_size=(3,), stride=(1,), padding=(1,), groups=19, bias=False)\n",
       "      (ln2): LayerNorm((1500,), eps=1e-05, elementwise_affine=True)\n",
       "    )\n",
       "  )\n",
       "  (layer3): Sequential(\n",
       "    (0): BasicBlock(\n",
       "      (conv1): Conv1d(304, 608, kernel_size=(3,), stride=(2,), padding=(1,), groups=19, bias=False)\n",
       "      (ln1): LayerNorm((750,), eps=1e-05, elementwise_affine=True)\n",
       "      (relu): ReLU(inplace=True)\n",
       "      (conv2): Conv1d(608, 608, kernel_size=(3,), stride=(1,), padding=(1,), groups=19, bias=False)\n",
       "      (ln2): LayerNorm((750,), eps=1e-05, elementwise_affine=True)\n",
       "      (downsample): Sequential(\n",
       "        (0): Conv1d(304, 608, kernel_size=(1,), stride=(2,), groups=19, bias=False)\n",
       "        (1): LayerNorm((750,), eps=1e-05, elementwise_affine=True)\n",
       "      )\n",
       "    )\n",
       "    (1): BasicBlock(\n",
       "      (conv1): Conv1d(608, 608, kernel_size=(3,), stride=(1,), padding=(1,), groups=19, bias=False)\n",
       "      (ln1): LayerNorm((750,), eps=1e-05, elementwise_affine=True)\n",
       "      (relu): ReLU(inplace=True)\n",
       "      (conv2): Conv1d(608, 608, kernel_size=(3,), stride=(1,), padding=(1,), groups=19, bias=False)\n",
       "      (ln2): LayerNorm((750,), eps=1e-05, elementwise_affine=True)\n",
       "    )\n",
       "  )\n",
       "  (layer4): Sequential(\n",
       "    (0): BasicBlock(\n",
       "      (conv1): Conv1d(608, 1216, kernel_size=(3,), stride=(2,), padding=(1,), groups=19, bias=False)\n",
       "      (ln1): LayerNorm((375,), eps=1e-05, elementwise_affine=True)\n",
       "      (relu): ReLU(inplace=True)\n",
       "      (conv2): Conv1d(1216, 1216, kernel_size=(3,), stride=(1,), padding=(1,), groups=19, bias=False)\n",
       "      (ln2): LayerNorm((375,), eps=1e-05, elementwise_affine=True)\n",
       "      (downsample): Sequential(\n",
       "        (0): Conv1d(608, 1216, kernel_size=(1,), stride=(2,), groups=19, bias=False)\n",
       "        (1): LayerNorm((375,), eps=1e-05, elementwise_affine=True)\n",
       "      )\n",
       "    )\n",
       "    (1): BasicBlock(\n",
       "      (conv1): Conv1d(1216, 1216, kernel_size=(3,), stride=(1,), padding=(1,), groups=19, bias=False)\n",
       "      (ln1): LayerNorm((375,), eps=1e-05, elementwise_affine=True)\n",
       "      (relu): ReLU(inplace=True)\n",
       "      (conv2): Conv1d(1216, 1216, kernel_size=(3,), stride=(1,), padding=(1,), groups=19, bias=False)\n",
       "      (ln2): LayerNorm((375,), eps=1e-05, elementwise_affine=True)\n",
       "    )\n",
       "  )\n",
       "  (avgpool_2): AdaptiveAvgPool2d(output_size=(19, 256))\n",
       "  (dropout2): Dropout(p=0.2, inplace=False)\n",
       "  (dropout5): Dropout(p=0.5, inplace=False)\n",
       ")"
      ]
     },
     "execution_count": 27,
     "metadata": {},
     "output_type": "execute_result"
    }
   ],
   "source": [
    "classifier.ae"
   ]
  },
  {
   "cell_type": "markdown",
   "id": "bc11dc39",
   "metadata": {},
   "source": [
    "### Forward hook"
   ]
  },
  {
   "cell_type": "code",
   "execution_count": null,
   "id": "bbb666ac",
   "metadata": {},
   "outputs": [],
   "source": [
    "output_folder = '../feature_maps'\n",
    "os.makedirs(output_folder, exist_ok=True)\n",
    "\n",
    "# Hook function to save feature maps\n",
    "feature_maps = []"
   ]
  },
  {
   "cell_type": "code",
   "execution_count": null,
   "id": "e762f195",
   "metadata": {},
   "outputs": [],
   "source": [
    "def hook_fn(module, input, output):\n",
    "    feature_maps.append(output)"
   ]
  },
  {
   "cell_type": "code",
   "execution_count": null,
   "id": "738b1a09",
   "metadata": {},
   "outputs": [],
   "source": [
    "def save_feature_maps_as_images(feature_maps, epoch, output_folder):\n",
    "    for idx, fmap in enumerate(feature_maps):\n",
    "        fmap = fmap.detach().cpu().numpy()  # Convert to numpy array\n",
    "        num_channels = fmap.shape[1]\n",
    "        for channel in range(num_channels):\n",
    "            plt.imshow(fmap[0, channel], cmap='viridis')  # Display one feature map channel\n",
    "            plt.colorbar()\n",
    "            plt.title(f'Epoch {epoch}, Feature Map {idx + 1}, Channel {channel + 1}')\n",
    "            plt.savefig(os.path.join(output_folder, f'epoch_{epoch}_feature_map_{idx+1}_channel_{channel+1}.png'))\n",
    "            plt.close()"
   ]
  },
  {
   "cell_type": "code",
   "execution_count": null,
   "id": "bf7eff85",
   "metadata": {},
   "outputs": [],
   "source": [
    "iter_train = iter(train_loader)\n",
    "data, target, file = next(iter_train)\n",
    "data, target = data.to('cuda'), target.to('cuda')\n",
    "\n",
    "epochs = 10\n",
    "batch_size = 16\n",
    "for epoch in range(epochs):\n",
    "    if (epoch + 1) % 2 == 0:\n",
    "        # Register the hooks for the desired layers\n",
    "        hook1 = model.conv1.register_forward_hook(hook_fn)\n",
    "        hook2 = model.conv2.register_forward_hook(hook_fn)\n",
    "        \n",
    "        # Run a forward pass again to capture feature maps for this epoch\n",
    "        input_pe = input_layer(data)\n",
    "        out = classifier(input_pe)\n",
    "        \n",
    "        # Save the feature maps as images\n",
    "        save_feature_maps_as_images(feature_maps, epoch + 1, output_folder)\n",
    "        \n",
    "        # Remove hooks after use to avoid unnecessary overhead\n",
    "        hook1.remove()\n",
    "        hook2.remove()"
   ]
  },
  {
   "cell_type": "raw",
   "id": "a44d9a5e",
   "metadata": {
    "scrolled": true
   },
   "source": [
    "input_pe = input_layer(data)\n",
    "out = classifier(input_pe)"
   ]
  },
  {
   "cell_type": "markdown",
   "id": "6803bab0",
   "metadata": {},
   "source": [
    "#### Check eval results"
   ]
  },
  {
   "cell_type": "raw",
   "id": "029fba4b",
   "metadata": {},
   "source": [
    "model_para = torch.load('weights/resnet18_best.pth')\n",
    "classifier.load_state_dict(model_para['model_state_dict'])\n",
    "classifier.cuda().eval()\n",
    "\n",
    "train_signal = iter(train_loader)\n",
    "eval_signal = iter(eval_loader)\n",
    "\n",
    "train_data = next(train_signal)\n",
    "\n",
    "x_train, y_train = train_data[0].to('cuda'), train_data[1].to('cuda')\n",
    "train_pred = classifier(x_train)\n",
    "train_loss = criterion(train_pred, y_train)\n",
    "train_loss\n",
    "\n",
    "eval_data = next(eval_signal)\n",
    "\n",
    "x_eval, y_eval = eval_data[0].to('cuda'), eval_data[1].to('cuda')\n",
    "eval_pred = classifier(x_eval)\n",
    "eval_loss = criterion(eval_pred, y_eval)\n",
    "eval_loss\n",
    "\n",
    "train_pred, eval_pred\n",
    "y_train, y_eval\n",
    "\n",
    "_, predicted = torch.max(eval_pred, 1)\n",
    "predicted"
   ]
  },
  {
   "cell_type": "raw",
   "id": "8add33de",
   "metadata": {
    "scrolled": true
   },
   "source": [
    "## Validate results\n",
    "\n",
    "import torch.nn.functional as F\n",
    "val_loss = 0\n",
    "total = 0\n",
    "correct = 0\n",
    "for batch_index, (data,target,_) in enumerate(eval_loader, 0):\n",
    "    data, target = data.to('cuda'), target.to('cuda')\n",
    "    outputs = classifier(data)\n",
    "    print(_)\n",
    "    loss = criterion(outputs, target)\n",
    "    val_loss += loss.item()\n",
    "    probabilities = F.softmax(outputs, dim=1)\n",
    "    print(loss.item(), probabilities)\n",
    "    _, predicted = torch.max(probabilities, 1)\n",
    "    print(predicted, target)\n",
    "    total += target.size(0)  # Total number of samples\n",
    "    correct += (predicted == target).sum().item()  # Count correct predictions\n",
    "    print(correct, total)\n",
    "    val_loss /= len(eval_loader)\n",
    "    val_accuracy = 100 * correct / total"
   ]
  },
  {
   "cell_type": "markdown",
   "id": "c39bd691",
   "metadata": {},
   "source": [
    "### Dataset"
   ]
  },
  {
   "cell_type": "code",
   "execution_count": null,
   "id": "4e13daac",
   "metadata": {},
   "outputs": [],
   "source": [
    "class customDataset(Dataset):\n",
    "    def __init__(self, data_dir:str, label_dir:str, label_dict:dict, transform=None):\n",
    "#         self.annotations = pd.read_csv(label_dir)\n",
    "        self.data_dir = data_dir   # './data/origin_csv/train'\n",
    "        self.label_dir = label_dir\n",
    "        self.transform = transform\n",
    "        self.files = os.listdir(self.data_dir)\n",
    "        self.annotations = pd.read_csv(self.label_dir)\n",
    "        self.label_dict = label_dict\n",
    "        \n",
    "    def __len__(self):\n",
    "        return len(self.files)\n",
    "    \n",
    "    def __getitem__(self, index):\n",
    "        data_path = os.path.join(self.data_dir, self.files[index])\n",
    "        data = pd.read_csv(data_path)\n",
    "        data = torch.tensor(data.values, dtype=torch.float32)\n",
    "        file_name = self.files[index]\n",
    "        \n",
    "        label = torch.tensor(int(self.label_dict[self.annotations.iloc[index,1]]))\n",
    "        \n",
    "        if self.transform:\n",
    "            data = self.transform(data)\n",
    "            \n",
    "        return (data, label, file_name)"
   ]
  },
  {
   "cell_type": "code",
   "execution_count": null,
   "id": "08d0d8e3",
   "metadata": {},
   "outputs": [],
   "source": [
    "\n",
    "# label_dic = {'normal':0, 'abnormal':1}\n",
    "\n",
    "    \n",
    "# transform = transforms.Compose([\n",
    "#     transforms.MinMaxScaler(feature_range=(0, 1)),\n",
    "#     transforms.ToTensor(),\n",
    "# ])\n",
    "# combined_dataset = ConcatDataset([train_dataset, eval_dataset])"
   ]
  },
  {
   "cell_type": "markdown",
   "id": "6a157aec",
   "metadata": {},
   "source": [
    "### Define model"
   ]
  },
  {
   "cell_type": "code",
   "execution_count": null,
   "id": "7e93cba4",
   "metadata": {},
   "outputs": [],
   "source": [
    "### Learning rate update policy\n",
    "def poly_lr_scheduler(optimizer, init_lr, iter, lr_decay_iter=1,\n",
    "                      max_iter=0, power=0.9):\n",
    "    \"\"\"Polynomial decay of learning rate\n",
    "        :param init_lr is base learning rate\n",
    "        :param iter is a current iteration\n",
    "        :param lr_decay_iter how frequently decay occurs, default is 1\n",
    "        :param max_iter is number of maximum iterations\n",
    "        :param power is a polymomial power\n",
    "    \"\"\"\n",
    "    if max_iter == 0:\n",
    "        raise Exception(\"MAX ITERATION CANNOT BE ZERO!\")\n",
    "    if iter % lr_decay_iter or iter > max_iter:\n",
    "        return optimizer\n",
    "    lr = init_lr * (1 - iter / max_iter) ** power\n",
    "    logger.info(f'lr=: {lr}')\n",
    "    for param_group in optimizer.param_groups:\n",
    "        param_group['lr'] = lr\n",
    "    return lr"
   ]
  },
  {
   "cell_type": "markdown",
   "id": "8e972650",
   "metadata": {},
   "source": [
    "### Train"
   ]
  },
  {
   "cell_type": "code",
   "execution_count": null,
   "id": "f9c11398",
   "metadata": {},
   "outputs": [],
   "source": [
    "def train(Configs:dict):\n",
    "    train_data_dir = Configs['dataset']['train_data_dir']\n",
    "    train_label_dir = Configs['dataset']['train_label_dir']\n",
    "\n",
    "    val_data_dir = Configs['dataset']['val_data_dir']\n",
    "    val_label_dir = Configs['dataset']['val_label_dir']\n",
    "\n",
    "    label_dict = Configs['dataset']['classes']\n",
    "    train_dataset = customDataset(data_dir=train_data_dir,\n",
    "                                  label_dir=train_label_dir,\n",
    "                                  label_dict=label_dict)\n",
    "    val_dataset = customDataset(data_dir=val_data_dir,\n",
    "                                label_dir=val_label_dir,\n",
    "                                label_dict=label_dict)\n",
    "    \n",
    "    train_loader = DataLoader(dataset=train_dataset, batch_size=Configs['train']['batch_size'],\n",
    "                                  shuffle=True, num_workers=16, pin_memory=True)\n",
    "\n",
    "    eval_loader = DataLoader(dataset=val_dataset, num_workers=16, shuffle=True, pin_memory=True)\n",
    "\n",
    "    classifier = transformer_classifier(input_size=Configs['input_size'], \n",
    "                                        n_channels = Configs['n_channels'],\n",
    "                                        model_hyp=Configs['model'],\n",
    "                                        classes=len(Configs['dataset']['classes'])).to('cuda')\n",
    "    optimizer = torch.optim.Adam(classifier.parameters(),betas=(0.9,0.9),lr=Configs['optimizer']['init_lr'])\n",
    "    criterion = nn.CrossEntropyLoss()\n",
    "    writer = SummaryWriter(Configs['tensorboard']['runs_dir']+'train_board')    # Initilize tensorflow\n",
    "    \n",
    "    ### Warmup training\n",
    "    warmup_steps = Configs['train']['warmup_steps']\n",
    "    warmup_step = 0\n",
    "    min_loss = 1\n",
    "    while warmup_step < warmup_steps:\n",
    "        for batch_index, (data,target,_) in enumerate(train_loader, 0):\n",
    "            if warmup_step < warmup_steps:\n",
    "        #     for batch_index, data in enumerate(train_loader, 0):\n",
    "                data, target = data.to('cuda'), target.to('cuda')\n",
    "                y = classifier(data)\n",
    "        #         logger.debug(f\"y size:{y.shape}, tatget size{target.shape}\")\n",
    "                warmup_loss = criterion(y, target)\n",
    "                optimizer.zero_grad()\n",
    "                warmup_loss.backward()\n",
    "                optimizer.step()\n",
    "        #         logger.info(f'Epoch: {epoch+1}, Train Loss: {train_loss}')\n",
    "                logger.info(f\"Warmup Step: {warmup_step}, Warmup Loss: {warmup_loss}\")\n",
    "                writer.add_scalar('Warmup Loss', warmup_loss, global_step=warmup_step)\n",
    "                warmup_step += 1\n",
    "        \n",
    "#         if warmup_step%5==0:\n",
    "#             torch.save(classifier.state_dict(), \n",
    "#                        Configs['checkpoint']['checkpoint_dir']+'inte_transformer_params_last.pth')\n",
    "        if warmup_loss < min_loss:\n",
    "            torch.save(classifier.state_dict(),\n",
    "                       Configs['checkpoint']['checkpoint_dir']+'inte_transformer_params_best.pth')\n",
    "            min_loss = warmup_loss\n",
    "        \n",
    "    \n",
    "    ### train\n",
    "#     step = 0\n",
    "#     epochs = Configs['train']['n_epochs']\n",
    "#     for epoch in range(epochs):\n",
    "#         # Training loop\n",
    "#         poly_lr_scheduler(optimizer, init_lr=Configs['optimizer']['init_lr'], iter=epoch, max_iter=epochs)\n",
    "#         for batch_index, (data,target,_) in enumerate(train_loader, 0):\n",
    "#             data, target = data.to('cuda'), target.to('cuda')\n",
    "#             y = classifier(data)\n",
    "#     #         logger.debug(f\"y size:{y.shape}, tatget size{target.shape}\")\n",
    "#             train_loss = criterion(y, target)\n",
    "#             optimizer.zero_grad()\n",
    "#             train_loss.backward()\n",
    "#             optimizer.step()\n",
    "#     #         logger.info(f'Epoch: {epoch+1}, Train Loss: {train_loss}')\n",
    "#             logger.info(f\"Step: {step}, training Loss: {train_loss}\")\n",
    "#             writer.add_scalar('Training Loss', train_loss, global_step=step)\n",
    "#             step += 1\n",
    "        \n",
    "#         if epoch%5==0:\n",
    "#             val_loss = 0\n",
    "#             correct = 0\n",
    "#             total = 0\n",
    "#             accuracy = 0\n",
    "#             with torch.no_grad():\n",
    "#                 for batch_index, (data,target,_) in enumerate(eval_loader, 0):\n",
    "#                     data, target = data.to('cuda'), target.to('cuda')\n",
    "#                     outputs = classifier(data)\n",
    "#                     loss = criterion(outputs, target)\n",
    "#                     val_loss += loss.item()\n",
    "#                     _, predicted = torch.max(outputs, 1)\n",
    "#                     total += target.size(0)  # Total number of samples\n",
    "#                     correct += (predicted == target).sum().item()  # Count correct predictions\n",
    "\n",
    "#             val_loss /= len(eval_loader)\n",
    "#             accuracy = 100 * correct / total\n",
    "#             writer.add_scalar('Validation Loss', val_loss, global_step=step)\n",
    "#             writer.add_scalar('Validation Accuracy', accuracy, global_step=step)\n",
    "#             logger.info(f'Epoch: {epoch}, Train Loss: {train_loss}, Val Loss: {val_loss:.4f}, Accuracy: {accuracy:.2f}%')\n",
    "\n",
    "#         torch.save(classifier.state_dict(), \n",
    "#                    Configs['checkpoint']['checkpoint_dir']+'inte_transformer_params_latest.pth')\n",
    "#         if train_loss < min_loss:\n",
    "#             torch.save(classifier.state_dict(),\n",
    "#                        Configs['checkpoint']['checkpoint_dir']+'inte_transformer_params_best.pth')\n",
    "#             min_loss = train_loss"
   ]
  },
  {
   "cell_type": "code",
   "execution_count": null,
   "id": "5a4333cb",
   "metadata": {
    "scrolled": true
   },
   "outputs": [],
   "source": [
    "parser = argparse.ArgumentParser()\n",
    "parser.add_argument(\"config_file\", metavar=\"FILE\", help=\"config file\")\n",
    "# parser.add_argument('--run-dir', metavar='DIR', help='run directory')\n",
    "# parser.add_argument('--pdb', action='store_true', help='pdb')\n",
    "args = parser.parse_args(args=['configs/eeg_torch.yml'])\n",
    "# args, opts = parser.parse_known_args()\n",
    "# f = 'configs/eeg_pt.yml'\n",
    "with open(args.config_file, 'r') as file:\n",
    "    configs = yaml.safe_load(file)\n",
    "    \n",
    "# configs['optimizer']['init_lr']\n",
    "# train(Configs=configs)"
   ]
  },
  {
   "cell_type": "code",
   "execution_count": null,
   "id": "f5a30a9b",
   "metadata": {},
   "outputs": [],
   "source": [
    "n_channels = 19\n",
    "ae_1 = nn.Sequential(nn.Conv1d(in_channels=n_channels, out_channels=n_channels, \n",
    "                               stride=3, kernel_size=7, dilation=1, groups=n_channels,\n",
    "                               padding_mode='reflect'),\n",
    "                     nn.BatchNorm1d(n_channels),\n",
    "                     nn.ReLU())\n",
    "ae_2 = nn.Sequential(nn.Conv1d(in_channels=n_channels, out_channels=n_channels, \n",
    "                               stride=2, kernel_size=4, dilation=1, groups=n_channels,\n",
    "                               padding_mode='reflect'),\n",
    "                     nn.BatchNorm1d(n_channels),\n",
    "                     nn.ReLU())\n",
    "ae_3 = nn.Sequential(nn.Conv1d(in_channels=n_channels, out_channels=n_channels, \n",
    "                               stride=2, kernel_size=4, dilation=1, groups=n_channels,\n",
    "                               padding_mode='reflect'),\n",
    "                     nn.BatchNorm1d(n_channels),\n",
    "                     nn.ReLU())\n",
    "\n",
    "# max_pool = nn.MaxPool1d(kernel_size=2, stride=1)\n",
    "in_data = torch.randn(20, 19, 6000)\n",
    "out_1 = ae_1(in_data)\n",
    "out_2 = ae_2(out_1)\n",
    "out_3 = ae_3(out_2)\n",
    "# out_data = max_pool(out_data)\n",
    "out_1.shape, out_2.shape, out_3.shape\n",
    "# 5660 stride 11"
   ]
  },
  {
   "cell_type": "code",
   "execution_count": null,
   "id": "40261902",
   "metadata": {},
   "outputs": [],
   "source": [
    "class transformer_classifier(nn.Module):\n",
    "    def __init__(self, input_size:int, n_channels:int, model_hyp:dict, classes:int):\n",
    "        super(transformer_classifier, self).__init__()\n",
    "        \n",
    "        self.ae_1 = nn.Sequential(nn.Conv1d(in_channels=n_channels, out_channels=n_channels, \n",
    "                                     stride=3, kernel_size=7, dilation=1, groups=n_channels,\n",
    "                                            padding_mode='reflect'),\n",
    "                                 nn.BatchNorm1d(n_channels),\n",
    "                                 nn.ReLU())\n",
    "        \n",
    "        self.ae_2 = nn.Sequential(nn.Conv1d(in_channels=n_channels, out_channels=n_channels, \n",
    "                                     stride=2, kernel_size=4, dilation=1, groups=n_channels,\n",
    "                                            padding_mode='reflect'),\n",
    "                                 nn.BatchNorm1d(n_channels),\n",
    "                                 nn.ReLU())\n",
    "\n",
    "        self.ae_3 = nn.Sequential(nn.Conv1d(in_channels=n_channels, out_channels=n_channels, \n",
    "                                     stride=2, kernel_size=4, dilation=1, groups=n_channels,\n",
    "                                            padding_mode='reflect'),\n",
    "                                 nn.BatchNorm1d(n_channels),\n",
    "                                 nn.ReLU())\n",
    "#         self.hidden_size = 597    # need to be calculated every time if you change shape of input\n",
    "#         self.ae = AutoEncoder(input_size=input_size, hidden_size=model_hyp['d_model'])  \n",
    "        self.encoder_layer = nn.TransformerEncoderLayer(d_model=model_hyp['d_model'],\n",
    "                                                        nhead=model_hyp['n_head'])\n",
    "        self.transformer_encoder = nn.TransformerEncoder(self.encoder_layer, num_layers=model_hyp['n_layer'])\n",
    "        self.flatten = nn.Flatten()\n",
    "        self.linear = nn.Linear(model_hyp['d_model']*n_channels, classes)\n",
    "\n",
    "    def forward(self, x):\n",
    "        z = self.ae_1(x)\n",
    "        z = self.ae_2(z)\n",
    "        z = self.ae_3(z)\n",
    "#         z = z[:, :, :1496] \n",
    "        logger.debug(f\"ae output size: %{z.shape}\")\n",
    "        z = self.transformer_encoder(z)\n",
    "        logger.debug(f\"transformer output size: %{z.shape}\")\n",
    "        z = self.flatten(z)\n",
    "        logger.debug(f\"flatten output size: %{z.shape}\")\n",
    "        y = self.linear(z)\n",
    "        return y"
   ]
  },
  {
   "cell_type": "code",
   "execution_count": null,
   "id": "6e8046f9",
   "metadata": {},
   "outputs": [],
   "source": [
    "in_data = torch.randn(20, 19, 6000).to('cuda')\n",
    "classifier = transformer_classifier(input_size=6000, n_channels =19,model_hyp=configs['model'],classes=len(configs['dataset']['classes'])).to('cuda')\n",
    "out = classifier(in_data)"
   ]
  },
  {
   "cell_type": "code",
   "execution_count": null,
   "id": "592583d3",
   "metadata": {},
   "outputs": [],
   "source": [
    "# target output size of 5\n",
    "m = nn.AdaptiveAvgPool2d((19,5))\n",
    "input = torch.randn(1, 64, 8)\n",
    "output = m(input)\n",
    "output.shape"
   ]
  },
  {
   "cell_type": "code",
   "execution_count": null,
   "id": "710b4529",
   "metadata": {},
   "outputs": [],
   "source": [
    "class model(nn.Module):\n",
    "    def __init__(self, input_size: int, n_channels: int, model_hyp: dict, classes: int):\n",
    "        super(model, self).__init__()\n",
    "        self.pe = PositionalEncoding(d_model=n_channels, max_len=input_size)\n",
    "        self.ae = resnet18(n_channels=n_channels, groups=n_channels, num_classes=classes, d_model=model_hyp['d_model'])\n",
    "        self.transformer_encoder = transformer_classifier(input_size, n_channels, model_hyp, classes)\n",
    "\n",
    "    def forward(self, x):\n",
    "        z = self.pe(x)\n",
    "        z = z.transpose(-1,-2)\n",
    "        z = self.ae(z)\n",
    "        z = self.transformer_encoder(z)\n",
    "        return z"
   ]
  },
  {
   "cell_type": "code",
   "execution_count": null,
   "id": "1bf605cc",
   "metadata": {},
   "outputs": [],
   "source": []
  },
  {
   "cell_type": "code",
   "execution_count": null,
   "id": "c4b8e1d1",
   "metadata": {
    "scrolled": true
   },
   "outputs": [],
   "source": [
    "if __name__ == \"__main__\":\n",
    "    logger = logging.getLogger(__name__)  # Use the current module's name\n",
    "#     logging.basicConfig(filename=f'./logs/{datetime.now().strftime(\"%y%m%d%H%M\")}_resnet18.log',level=logging.DEBUG)\n",
    "    logging.basicConfig(level=logging.DEBUG)\n",
    "    # logger.setLevel(logging.DEBUG)\n",
    "    handler = logging.StreamHandler()\n",
    "    # formatter = logging.Formatter('%(asctime)s - %(levelname)s - %(message)s')\n",
    "    # handler.setFormatter(formatter)\n",
    "    logger.addHandler(handler)\n",
    "\n",
    "    classifier = model(input_size=Configs['input_size'],\n",
    "                                        n_channels = Configs['n_channels'],\n",
    "                                        model_hyp=Configs['model'],\n",
    "                                        classes=len(Configs['dataset']['classes'])).to('cuda')"
   ]
  },
  {
   "cell_type": "code",
   "execution_count": null,
   "id": "412124e5",
   "metadata": {},
   "outputs": [],
   "source": [
    "for m in classifier.modules():\n",
    "    print(m)"
   ]
  },
  {
   "cell_type": "code",
   "execution_count": null,
   "id": "027c4fcb",
   "metadata": {
    "scrolled": false
   },
   "outputs": [],
   "source": [
    "for m in classifier.parameters():\n",
    "    print(m.dim(),m.shape, type(m))"
   ]
  }
 ],
 "metadata": {
  "kernelspec": {
   "display_name": "Python [conda env:python38]",
   "language": "python",
   "name": "conda-env-python38-py"
  },
  "language_info": {
   "codemirror_mode": {
    "name": "ipython",
    "version": 3
   },
   "file_extension": ".py",
   "mimetype": "text/x-python",
   "name": "python",
   "nbconvert_exporter": "python",
   "pygments_lexer": "ipython3",
   "version": "3.8.16"
  },
  "varInspector": {
   "cols": {
    "lenName": "50",
    "lenType": "50",
    "lenVar": "80"
   },
   "kernels_config": {
    "python": {
     "delete_cmd_postfix": "",
     "delete_cmd_prefix": "del ",
     "library": "var_list.py",
     "varRefreshCmd": "print(var_dic_list())"
    },
    "r": {
     "delete_cmd_postfix": ") ",
     "delete_cmd_prefix": "rm(",
     "library": "var_list.r",
     "varRefreshCmd": "cat(var_dic_list()) "
    }
   },
   "types_to_exclude": [
    "module",
    "function",
    "builtin_function_or_method",
    "instance",
    "_Feature"
   ],
   "window_display": false
  }
 },
 "nbformat": 4,
 "nbformat_minor": 5
}
