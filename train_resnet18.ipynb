{
 "cells": [
  {
   "cell_type": "code",
   "execution_count": 1,
   "id": "f2f8369d",
   "metadata": {
    "scrolled": true
   },
   "outputs": [
    {
     "name": "stderr",
     "output_type": "stream",
     "text": [
      "2024-10-29 16:59:01.107034: I tensorflow/core/util/port.cc:110] oneDNN custom operations are on. You may see slightly different numerical results due to floating-point round-off errors from different computation orders. To turn them off, set the environment variable `TF_ENABLE_ONEDNN_OPTS=0`.\n",
      "2024-10-29 16:59:01.336021: I tensorflow/core/platform/cpu_feature_guard.cc:182] This TensorFlow binary is optimized to use available CPU instructions in performance-critical operations.\n",
      "To enable the following instructions: AVX2 AVX512F AVX512_VNNI AVX512_BF16 FMA, in other operations, rebuild TensorFlow with the appropriate compiler flags.\n",
      "2024-10-29 16:59:01.828538: W tensorflow/compiler/tf2tensorrt/utils/py_utils.cc:38] TF-TRT Warning: Could not find TensorRT\n"
     ]
    }
   ],
   "source": [
    "import os\n",
    "import math\n",
    "import pandas as pd\n",
    "import numpy as np\n",
    "from pathlib import Path\n",
    "import shutil\n",
    "import argparse\n",
    "from typing import List, Union\n",
    "import matplotlib.pyplot as plt\n",
    "import yaml\n",
    "from datetime import datetime\n",
    "import logging\n",
    "\n",
    "import torch\n",
    "from torch import Tensor, nn\n",
    "from torch.types import Device, _size\n",
    "from torch.nn.parameter import Parameter, UninitializedParameter\n",
    "from torch.nn import init\n",
    "from torch.utils.data import Dataset\n",
    "from torch.utils.data import ConcatDataset\n",
    "from torch.utils.data import DataLoader\n",
    "from torch.utils.tensorboard import SummaryWriter\n",
    "from collections import OrderedDict\n",
    "\n",
    "# from sklearn.preprocessing import StandardScaler\n",
    "# from sklearn.model_selection import train_test_split\n",
    "from configs.config import configs\n",
    "\n",
    "from models.resnet1D import *\n",
    "from models.pe import PositionalEncoding\n",
    "from models.transformer_encoder import transformer_classifier\n"
   ]
  },
  {
   "cell_type": "markdown",
   "id": "abdd69da",
   "metadata": {},
   "source": [
    "### Evaluate norm of tensor"
   ]
  },
  {
   "cell_type": "raw",
   "id": "c757178e",
   "metadata": {
    "scrolled": true
   },
   "source": [
    "conv_layer = nn.Conv1d(19, 19*2, kernel_size=3, groups=19, stride=2, padding=3, bias=False)\n",
    "print(conv_layer.weight,torch.norm(conv_layer.weight))\n",
    "nn.init.xavier_normal_(conv_layer.weight)\n",
    "print(conv_layer.weight, torch.norm(conv_layer.weight, dim=2))"
   ]
  },
  {
   "cell_type": "markdown",
   "id": "b320dd3e",
   "metadata": {},
   "source": [
    "### Initilization"
   ]
  },
  {
   "cell_type": "code",
   "execution_count": 2,
   "id": "cb628e7d",
   "metadata": {
    "scrolled": true
   },
   "outputs": [
    {
     "name": "stderr",
     "output_type": "stream",
     "text": [
      "Current accuracy: %0.95\n",
      "INFO:__main__:Current accuracy: %0.95\n"
     ]
    }
   ],
   "source": [
    "# Init logging\n",
    "import logging\n",
    "\n",
    "logger = logging.getLogger(__name__)  # Use the current module's name\n",
    "logging.basicConfig(level=logging.DEBUG)\n",
    "# logger.setLevel(logging.DEBUG)\n",
    "handler = logging.StreamHandler()\n",
    "# formatter = logging.Formatter('%(asctime)s - %(levelname)s - %(message)s')\n",
    "# handler.setFormatter(formatter)\n",
    "logger.addHandler(handler)\n",
    "acc_example = 0.95  # Replace with your actual accuracy calculation\n",
    "logger.info(f\"Current accuracy: %{acc_example}\")  # Log as info\n",
    "# logger.debug(\"Current accuracy: %.2f\", accuracy)  # Log as info"
   ]
  },
  {
   "cell_type": "code",
   "execution_count": 3,
   "id": "535cc545",
   "metadata": {},
   "outputs": [],
   "source": [
    "parser = argparse.ArgumentParser()\n",
    "parser.add_argument(\"config_file\", metavar=\"FILE\", help=\"config file\")\n",
    "# parser.add_argument('--run-dir', metavar='DIR', help='run directory')\n",
    "# parser.add_argument('--pdb', action='store_true', help='pdb')\n",
    "args = parser.parse_args(args=['configs/abnormal_12000.yml'])\n",
    "# args, opts = parser.parse_known_args()\n",
    "# f = 'configs/eeg_pt.yml'\n",
    "with open(args.config_file, 'r') as file:\n",
    "    Configs = yaml.safe_load(file)"
   ]
  },
  {
   "cell_type": "raw",
   "id": "60dbe698",
   "metadata": {},
   "source": [
    "if Configs['checkpoint']['checkpoint_dir'] is not None:\n",
    "    print(Configs['checkpoint']['checkpoint_dir'])"
   ]
  },
  {
   "cell_type": "markdown",
   "id": "8c3852c0",
   "metadata": {},
   "source": [
    "### Load dataset"
   ]
  },
  {
   "cell_type": "code",
   "execution_count": 4,
   "id": "5b034725",
   "metadata": {},
   "outputs": [],
   "source": [
    "# transform signal\n",
    "def transform(data:Tensor, mean:Tensor, std:Tensor):\n",
    "    normalized_data = (data - mean) / std\n",
    "    return normalized_data"
   ]
  },
  {
   "cell_type": "code",
   "execution_count": 5,
   "id": "5e176c92",
   "metadata": {},
   "outputs": [],
   "source": [
    "class customDataset(Dataset):\n",
    "    def __init__(self, data_dir:str, label_dir:str, label_dict:dict, mean: list, std: list, transform=None):\n",
    "#         self.annotations = pd.read_csv(label_dir)\n",
    "        self.data_dir = data_dir   # './data/seg_csv/train'\n",
    "        self.label_dir = label_dir\n",
    "        self.transform = transform\n",
    "        self.files = os.listdir(self.data_dir)\n",
    "        self.annotations = pd.read_csv(self.label_dir)\n",
    "        self.label_dict = label_dict\n",
    "        self.mean = torch.tensor(mean)\n",
    "        self.std = torch.tensor(std)\n",
    "        \n",
    "    def __len__(self):\n",
    "        return len(self.files)\n",
    "    \n",
    "    def __getitem__(self, index):\n",
    "        data_path = os.path.join(self.data_dir, self.files[index])\n",
    "        data = pd.read_csv(data_path)\n",
    "        data = torch.tensor(data.values, dtype=torch.float32)\n",
    "        file_name = self.files[index]\n",
    "        \n",
    "#         label = torch.tensor(int(self.label_dict[self.annotations.iloc[index,1]]))\n",
    "        label = self.annotations.loc[self.annotations['csv_file'] == file_name, ['label']].to_string(index=False,header=False)\n",
    "        label = torch.tensor(int(self.label_dict[label]))\n",
    "        \n",
    "        \n",
    "        if self.transform:\n",
    "            data = self.transform(data, self.mean, self.std)\n",
    "            \n",
    "        return (data, label, file_name)"
   ]
  },
  {
   "cell_type": "raw",
   "id": "0c5feb00",
   "metadata": {},
   "source": [
    "train_data_dir = Configs['dataset']['train_data_dir']\n",
    "train_label_dir = Configs['dataset']['train_label_dir']\n",
    "\n",
    "val_data_dir = Configs['dataset']['val_data_dir']\n",
    "val_label_dir = Configs['dataset']['val_label_dir']\n",
    "\n",
    "label_dict = Configs['dataset']['classes']\n",
    "\n",
    "mean =  Configs['dataset']['mean']\n",
    "std =  Configs['dataset']['std']\n",
    "\n",
    "\n",
    "\n",
    "# train_loader = DataLoader(dataset=train_dataset, batch_size=Configs['train']['batch_size'],\n",
    "#                               shuffle=True, num_workers=16, pin_memory=True)\n",
    "\n",
    "# eval_loader = DataLoader(dataset=val_dataset, num_workers=16, shuffle=True, pin_memory=True)"
   ]
  },
  {
   "cell_type": "raw",
   "id": "e96c607e",
   "metadata": {},
   "source": [
    "data_dir = Configs['dataset']['train_data_dir']   # './data/seg_csv/train'\n",
    "label_dir = Configs['dataset']['train_label_dir']\n",
    "transform = transform\n",
    "files = os.listdir(data_dir)\n",
    "annotations = pd.read_csv(label_dir)\n",
    "label_dict = label_dict\n",
    "mean = torch.tensor(mean)\n",
    "std = torch.tensor(std)"
   ]
  },
  {
   "cell_type": "raw",
   "id": "e4c72d95",
   "metadata": {},
   "source": [
    "index = 20"
   ]
  },
  {
   "cell_type": "raw",
   "id": "a6a45b35",
   "metadata": {},
   "source": [
    "files"
   ]
  },
  {
   "cell_type": "raw",
   "id": "de6723c5",
   "metadata": {},
   "source": [
    "data_path = os.path.join(data_dir, files[index])\n",
    "data = pd.read_csv(data_path)\n",
    "data = torch.tensor(data.values, dtype=torch.float32)\n",
    "file_name = files[index]"
   ]
  },
  {
   "cell_type": "raw",
   "id": "d1dc543a",
   "metadata": {},
   "source": [
    "annotations.loc[annotations['csv_file'] == file_name, ['label']].to_string(index=False,header=False)"
   ]
  },
  {
   "cell_type": "raw",
   "id": "5040e5ba",
   "metadata": {},
   "source": [
    "label = annotations.loc[annotations['csv_file'] == file_name, ['label']].to_string(index=False,header=False)\n",
    "label = torch.tensor(int(label_dict[label]))"
   ]
  },
  {
   "cell_type": "raw",
   "id": "a2667d43",
   "metadata": {},
   "source": [
    "label"
   ]
  },
  {
   "cell_type": "raw",
   "id": "c4b85783",
   "metadata": {},
   "source": [
    "data_path"
   ]
  },
  {
   "cell_type": "raw",
   "id": "36f53bbc",
   "metadata": {},
   "source": [
    "iter_train = iter(train_loader)\n",
    "data, target, file = next(iter_train)"
   ]
  },
  {
   "cell_type": "markdown",
   "id": "2c6de7e7",
   "metadata": {},
   "source": [
    "### Define model"
   ]
  },
  {
   "cell_type": "code",
   "execution_count": 6,
   "id": "78c47be1",
   "metadata": {},
   "outputs": [],
   "source": [
    "class model(nn.Module):\n",
    "    def __init__(self, input_size: int, n_channels: int, model_hyp: dict, classes: int):\n",
    "        super(model, self).__init__()\n",
    "        self.ae = resnet18(n_channels=n_channels, groups=n_channels, num_classes=classes, d_model=model_hyp['d_model'])\n",
    "        self.transformer_encoder = transformer_classifier(input_size, n_channels, model_hyp, classes)\n",
    "#         self.mlp = nn.Sequential(\n",
    "#             nn.Linear(n_channels*model_hyp['d_model'], n_channels*model_hyp['d_model']//8),\n",
    "#             nn.ReLU(),\n",
    "#             nn.Linear(n_channels*model_hyp['d_model']//8, n_channels*model_hyp['d_model']//32),\n",
    "#             nn.ReLU(),\n",
    "#             nn.Linear(n_channels*model_hyp['d_model']//32, classes),\n",
    "#         )\n",
    "        self.reset_parameters()\n",
    "        \n",
    "    def reset_parameters(self):\n",
    "        r\"\"\"Initiate parameters in the model.\"\"\"\n",
    "        \n",
    "        for p in self.parameters():\n",
    "            if p.dim() > 1:\n",
    "#                 logger.debug(p.shape)\n",
    "                nn.init.xavier_uniform_(p)\n",
    "                    \n",
    "        for m in self.modules():\n",
    "#             print(m)\n",
    "            if isinstance(m, nn.Conv1d):\n",
    "                nn.init.xavier_uniform_(m.weight)\n",
    "                if m.bias is not None:\n",
    "                    nn.init.zeros_(m.bias)\n",
    "        \n",
    "            elif isinstance(m, nn.LayerNorm):\n",
    "                nn.init.ones_(m.weight)\n",
    "                nn.init.zeros_(m.bias)\n",
    "            elif isinstance(m, nn.Linear):\n",
    "                nn.init.xavier_uniform_(m.weight)\n",
    "                if m.bias is not None:\n",
    "                    nn.init.zeros_(m.bias)\n",
    "        print('Complete initiate parameters')\n",
    "\n",
    "    def forward(self, x):\n",
    "#         z = self.pe(x)\n",
    "        z = x.transpose(-1,-2)\n",
    "        z = self.ae(z)\n",
    "        y = transformer_encoder(z)\n",
    "#         z = torch.flatten(z, 1)\n",
    "#         y = self.mlp(z)\n",
    "#         z = self.transformer_encoder(z)\n",
    "        return y"
   ]
  },
  {
   "cell_type": "code",
   "execution_count": 7,
   "id": "f8e1846e",
   "metadata": {
    "scrolled": true
   },
   "outputs": [
    {
     "name": "stderr",
     "output_type": "stream",
     "text": [
      "/home/yossi/anaconda3/envs/python38/lib/python3.8/site-packages/torch/nn/modules/transformer.py:306: UserWarning: enable_nested_tensor is True, but self.use_nested_tensor is False because encoder_layer.self_attn.num_heads is odd\n",
      "  warnings.warn(f\"enable_nested_tensor is True, but self.use_nested_tensor is False because {why_not_sparsity_fast_path}\")\n"
     ]
    },
    {
     "name": "stdout",
     "output_type": "stream",
     "text": [
      "Complete initiate parameters\n"
     ]
    }
   ],
   "source": [
    "classifier = model(input_size=Configs['input_size'],\n",
    "                                        n_channels = Configs['n_channels'],\n",
    "                                        model_hyp=Configs['model'],\n",
    "                                        classes=len(Configs['dataset']['classes'])).to('cuda')"
   ]
  },
  {
   "cell_type": "code",
   "execution_count": 8,
   "id": "fb10f1ae",
   "metadata": {
    "scrolled": true
   },
   "outputs": [
    {
     "data": {
      "text/plain": [
       "model(\n",
       "  (ae): ResNet(\n",
       "    (conv1): Conv1d(19, 152, kernel_size=(64,), stride=(2,), padding=(3,), groups=19, bias=False)\n",
       "    (avgpool1d): AdaptiveAvgPool1d(output_size=6000)\n",
       "    (ln1): LayerNorm((6000,), eps=1e-05, elementwise_affine=True)\n",
       "    (relu): ReLU(inplace=True)\n",
       "    (avgpool_1): AvgPool1d(kernel_size=(3,), stride=(2,), padding=(1,))\n",
       "    (layer1): Sequential(\n",
       "      (0): BasicBlock(\n",
       "        (conv1): Conv1d(152, 152, kernel_size=(16,), stride=(1,), padding=(1,), groups=19, bias=False)\n",
       "        (avgpool_1): AdaptiveAvgPool1d(output_size=3000)\n",
       "        (ln1): LayerNorm((3000,), eps=1e-05, elementwise_affine=True)\n",
       "        (relu): ReLU(inplace=True)\n",
       "        (conv2): Conv1d(152, 152, kernel_size=(16,), stride=(1,), padding=(1,), groups=19, bias=False)\n",
       "        (avgpool_2): AdaptiveAvgPool1d(output_size=3000)\n",
       "        (ln2): LayerNorm((3000,), eps=1e-05, elementwise_affine=True)\n",
       "      )\n",
       "      (1): BasicBlock(\n",
       "        (conv1): Conv1d(152, 152, kernel_size=(16,), stride=(1,), padding=(1,), groups=19, bias=False)\n",
       "        (avgpool_1): AdaptiveAvgPool1d(output_size=3000)\n",
       "        (ln1): LayerNorm((3000,), eps=1e-05, elementwise_affine=True)\n",
       "        (relu): ReLU(inplace=True)\n",
       "        (conv2): Conv1d(152, 152, kernel_size=(16,), stride=(1,), padding=(1,), groups=19, bias=False)\n",
       "        (avgpool_2): AdaptiveAvgPool1d(output_size=3000)\n",
       "        (ln2): LayerNorm((3000,), eps=1e-05, elementwise_affine=True)\n",
       "      )\n",
       "    )\n",
       "    (layer2): Sequential(\n",
       "      (0): BasicBlock(\n",
       "        (conv1): Conv1d(152, 304, kernel_size=(16,), stride=(2,), padding=(1,), groups=19, bias=False)\n",
       "        (avgpool_1): AdaptiveAvgPool1d(output_size=1500)\n",
       "        (ln1): LayerNorm((1500,), eps=1e-05, elementwise_affine=True)\n",
       "        (relu): ReLU(inplace=True)\n",
       "        (conv2): Conv1d(304, 304, kernel_size=(16,), stride=(1,), padding=(1,), groups=19, bias=False)\n",
       "        (avgpool_2): AdaptiveAvgPool1d(output_size=1500)\n",
       "        (ln2): LayerNorm((1500,), eps=1e-05, elementwise_affine=True)\n",
       "        (downsample): Sequential(\n",
       "          (0): Conv1d(152, 304, kernel_size=(1,), stride=(2,), groups=19, bias=False)\n",
       "          (1): LayerNorm((1500,), eps=1e-05, elementwise_affine=True)\n",
       "        )\n",
       "      )\n",
       "      (1): BasicBlock(\n",
       "        (conv1): Conv1d(304, 304, kernel_size=(16,), stride=(1,), padding=(1,), groups=19, bias=False)\n",
       "        (avgpool_1): AdaptiveAvgPool1d(output_size=1500)\n",
       "        (ln1): LayerNorm((1500,), eps=1e-05, elementwise_affine=True)\n",
       "        (relu): ReLU(inplace=True)\n",
       "        (conv2): Conv1d(304, 304, kernel_size=(16,), stride=(1,), padding=(1,), groups=19, bias=False)\n",
       "        (avgpool_2): AdaptiveAvgPool1d(output_size=1500)\n",
       "        (ln2): LayerNorm((1500,), eps=1e-05, elementwise_affine=True)\n",
       "      )\n",
       "    )\n",
       "    (layer3): Sequential(\n",
       "      (0): BasicBlock(\n",
       "        (conv1): Conv1d(304, 608, kernel_size=(16,), stride=(2,), padding=(1,), groups=19, bias=False)\n",
       "        (avgpool_1): AdaptiveAvgPool1d(output_size=750)\n",
       "        (ln1): LayerNorm((750,), eps=1e-05, elementwise_affine=True)\n",
       "        (relu): ReLU(inplace=True)\n",
       "        (conv2): Conv1d(608, 608, kernel_size=(16,), stride=(1,), padding=(1,), groups=19, bias=False)\n",
       "        (avgpool_2): AdaptiveAvgPool1d(output_size=750)\n",
       "        (ln2): LayerNorm((750,), eps=1e-05, elementwise_affine=True)\n",
       "        (downsample): Sequential(\n",
       "          (0): Conv1d(304, 608, kernel_size=(1,), stride=(2,), groups=19, bias=False)\n",
       "          (1): LayerNorm((750,), eps=1e-05, elementwise_affine=True)\n",
       "        )\n",
       "      )\n",
       "      (1): BasicBlock(\n",
       "        (conv1): Conv1d(608, 608, kernel_size=(16,), stride=(1,), padding=(1,), groups=19, bias=False)\n",
       "        (avgpool_1): AdaptiveAvgPool1d(output_size=750)\n",
       "        (ln1): LayerNorm((750,), eps=1e-05, elementwise_affine=True)\n",
       "        (relu): ReLU(inplace=True)\n",
       "        (conv2): Conv1d(608, 608, kernel_size=(16,), stride=(1,), padding=(1,), groups=19, bias=False)\n",
       "        (avgpool_2): AdaptiveAvgPool1d(output_size=750)\n",
       "        (ln2): LayerNorm((750,), eps=1e-05, elementwise_affine=True)\n",
       "      )\n",
       "    )\n",
       "    (layer4): Sequential(\n",
       "      (0): BasicBlock(\n",
       "        (conv1): Conv1d(608, 1216, kernel_size=(16,), stride=(2,), padding=(1,), groups=19, bias=False)\n",
       "        (avgpool_1): AdaptiveAvgPool1d(output_size=375)\n",
       "        (ln1): LayerNorm((375,), eps=1e-05, elementwise_affine=True)\n",
       "        (relu): ReLU(inplace=True)\n",
       "        (conv2): Conv1d(1216, 1216, kernel_size=(16,), stride=(1,), padding=(1,), groups=19, bias=False)\n",
       "        (avgpool_2): AdaptiveAvgPool1d(output_size=375)\n",
       "        (ln2): LayerNorm((375,), eps=1e-05, elementwise_affine=True)\n",
       "        (downsample): Sequential(\n",
       "          (0): Conv1d(608, 1216, kernel_size=(1,), stride=(2,), groups=19, bias=False)\n",
       "          (1): LayerNorm((375,), eps=1e-05, elementwise_affine=True)\n",
       "        )\n",
       "      )\n",
       "      (1): BasicBlock(\n",
       "        (conv1): Conv1d(1216, 1216, kernel_size=(16,), stride=(1,), padding=(1,), groups=19, bias=False)\n",
       "        (avgpool_1): AdaptiveAvgPool1d(output_size=375)\n",
       "        (ln1): LayerNorm((375,), eps=1e-05, elementwise_affine=True)\n",
       "        (relu): ReLU(inplace=True)\n",
       "        (conv2): Conv1d(1216, 1216, kernel_size=(16,), stride=(1,), padding=(1,), groups=19, bias=False)\n",
       "        (avgpool_2): AdaptiveAvgPool1d(output_size=375)\n",
       "        (ln2): LayerNorm((375,), eps=1e-05, elementwise_affine=True)\n",
       "      )\n",
       "    )\n",
       "    (avgpool_2): AdaptiveAvgPool2d(output_size=(19, 256))\n",
       "    (dropout2): Dropout(p=0.2, inplace=False)\n",
       "    (dropout5): Dropout(p=0.5, inplace=False)\n",
       "  )\n",
       "  (transformer_encoder): transformer_classifier(\n",
       "    (encoder_layer): TransformerEncoderLayer(\n",
       "      (self_attn): MultiheadAttention(\n",
       "        (out_proj): NonDynamicallyQuantizableLinear(in_features=256, out_features=256, bias=True)\n",
       "      )\n",
       "      (linear1): Linear(in_features=256, out_features=2048, bias=True)\n",
       "      (dropout): Dropout(p=0.1, inplace=False)\n",
       "      (linear2): Linear(in_features=2048, out_features=256, bias=True)\n",
       "      (norm1): LayerNorm((256,), eps=1e-05, elementwise_affine=True)\n",
       "      (norm2): LayerNorm((256,), eps=1e-05, elementwise_affine=True)\n",
       "      (dropout1): Dropout(p=0.1, inplace=False)\n",
       "      (dropout2): Dropout(p=0.1, inplace=False)\n",
       "    )\n",
       "    (transformer_encoder): TransformerEncoder(\n",
       "      (layers): ModuleList(\n",
       "        (0): TransformerEncoderLayer(\n",
       "          (self_attn): MultiheadAttention(\n",
       "            (out_proj): NonDynamicallyQuantizableLinear(in_features=256, out_features=256, bias=True)\n",
       "          )\n",
       "          (linear1): Linear(in_features=256, out_features=2048, bias=True)\n",
       "          (dropout): Dropout(p=0.1, inplace=False)\n",
       "          (linear2): Linear(in_features=2048, out_features=256, bias=True)\n",
       "          (norm1): LayerNorm((256,), eps=1e-05, elementwise_affine=True)\n",
       "          (norm2): LayerNorm((256,), eps=1e-05, elementwise_affine=True)\n",
       "          (dropout1): Dropout(p=0.1, inplace=False)\n",
       "          (dropout2): Dropout(p=0.1, inplace=False)\n",
       "        )\n",
       "      )\n",
       "    )\n",
       "    (flatten): Flatten(start_dim=1, end_dim=-1)\n",
       "    (linear): Linear(in_features=4864, out_features=2, bias=True)\n",
       "  )\n",
       ")"
      ]
     },
     "execution_count": 8,
     "metadata": {},
     "output_type": "execute_result"
    }
   ],
   "source": [
    "classifier"
   ]
  },
  {
   "cell_type": "raw",
   "id": "67093611",
   "metadata": {},
   "source": [
    "\n",
    "for param in classifier.ae.layer1[0].conv2.parameters():\n",
    "    print(param)"
   ]
  },
  {
   "cell_type": "raw",
   "id": "35257f90",
   "metadata": {},
   "source": [
    "# test model\n",
    "batch = 16\n",
    "d_model = 19\n",
    "max_len = 12000\n",
    "x = torch.rand(batch, max_len, d_model)\n",
    "pe = model(input_size=Configs['input_size'],\n",
    "           n_channels = Configs['n_channels'],\n",
    "           model_hyp=Configs['model'],\n",
    "           classes=len(Configs['dataset']['classes']))\n",
    "           \n",
    "out = pe(x)"
   ]
  },
  {
   "cell_type": "code",
   "execution_count": 9,
   "id": "b5e7804f",
   "metadata": {
    "scrolled": false
   },
   "outputs": [
    {
     "name": "stderr",
     "output_type": "stream",
     "text": [
      "/home/yossi/anaconda3/envs/python38/lib/python3.8/site-packages/torch/nn/modules/transformer.py:306: UserWarning: enable_nested_tensor is True, but self.use_nested_tensor is False because encoder_layer.self_attn.num_heads is odd\n",
      "  warnings.warn(f\"enable_nested_tensor is True, but self.use_nested_tensor is False because {why_not_sparsity_fast_path}\")\n"
     ]
    },
    {
     "name": "stdout",
     "output_type": "stream",
     "text": [
      "Complete initiate parameters\n"
     ]
    },
    {
     "name": "stderr",
     "output_type": "stream",
     "text": [
      "/home/yossi/.local/lib/python3.8/site-packages/transformers/utils/generic.py:482: UserWarning: torch.utils._pytree._register_pytree_node is deprecated. Please use torch.utils._pytree.register_pytree_node instead.\n",
      "  _torch_pytree._register_pytree_node(\n"
     ]
    }
   ],
   "source": [
    "train_data_dir = Configs['dataset']['train_data_dir']\n",
    "train_label_dir = Configs['dataset']['train_label_dir']\n",
    "\n",
    "val_data_dir = Configs['dataset']['val_data_dir']\n",
    "val_label_dir = Configs['dataset']['val_label_dir']\n",
    "\n",
    "label_dict = Configs['dataset']['classes']\n",
    "\n",
    "mean =  Configs['dataset']['mean']\n",
    "std =  Configs['dataset']['std']\n",
    "\n",
    "train_dataset = customDataset(data_dir=train_data_dir,\n",
    "                              label_dir=train_label_dir,\n",
    "                              label_dict=label_dict,\n",
    "                              mean=mean,\n",
    "                              std=std,\n",
    "                             transform=transform)\n",
    "val_dataset = customDataset(data_dir=val_data_dir,\n",
    "                            label_dir=val_label_dir,\n",
    "                            label_dict=label_dict,\n",
    "                            mean=mean,\n",
    "                            std=std,\n",
    "                           transform=transform)\n",
    "\n",
    "train_loader = DataLoader(dataset=train_dataset, batch_size=4,\n",
    "                              shuffle=Configs['dataset']['shuffle'], \n",
    "                          num_workers=Configs['dataset']['num_workers'], pin_memory=True)\n",
    "\n",
    "eval_loader = DataLoader(dataset=val_dataset, num_workers=Configs['dataset']['num_workers'], \n",
    "                         shuffle=Configs['dataset']['shuffle'], pin_memory=True)\n",
    "\n",
    "# classifier = model(input_size=Configs['input_size'],\n",
    "#                                     n_channels = Configs['n_channels'],\n",
    "#                                     model_hyp=Configs['model'],\n",
    "#                                     classes=len(Configs['dataset']['classes'])).to('cuda')\n",
    "\n",
    "# input_layer = nn.Sequential(\n",
    "# #         nn.Embedding(num_embeddings=10000, embedding_dim=512),\n",
    "# #         PositionalEncoding(d_model=512, dropout=0.1, max_len=5000)\n",
    "#     PositionalEncoding(d_model=Configs['n_channels'], max_len=Configs['input_size'])\n",
    "# ).to('cuda')\n",
    "\n",
    "classifier = model(input_size=Configs['input_size'],\n",
    "                                        n_channels = Configs['n_channels'],\n",
    "                                        model_hyp=Configs['model'],\n",
    "                                        classes=len(Configs['dataset']['classes'])).to('cuda')\n",
    "optimizer = torch.optim.Adam(classifier.parameters(),betas=(0.9,0.999),lr=Configs['optimizer']['init_lr'])\n",
    "criterion = nn.CrossEntropyLoss()\n",
    "writer = SummaryWriter(Configs['tensorboard']['runs_dir']+'train_board')    # Initilize tensorflow"
   ]
  },
  {
   "cell_type": "code",
   "execution_count": 10,
   "id": "f0044a52",
   "metadata": {
    "scrolled": true
   },
   "outputs": [
    {
     "data": {
      "text/plain": [
       "['__add__',\n",
       " '__class__',\n",
       " '__class_getitem__',\n",
       " '__delattr__',\n",
       " '__dict__',\n",
       " '__dir__',\n",
       " '__doc__',\n",
       " '__eq__',\n",
       " '__format__',\n",
       " '__ge__',\n",
       " '__getattribute__',\n",
       " '__getitem__',\n",
       " '__gt__',\n",
       " '__hash__',\n",
       " '__init__',\n",
       " '__init_subclass__',\n",
       " '__le__',\n",
       " '__len__',\n",
       " '__lt__',\n",
       " '__module__',\n",
       " '__ne__',\n",
       " '__new__',\n",
       " '__orig_bases__',\n",
       " '__parameters__',\n",
       " '__reduce__',\n",
       " '__reduce_ex__',\n",
       " '__repr__',\n",
       " '__setattr__',\n",
       " '__sizeof__',\n",
       " '__slots__',\n",
       " '__str__',\n",
       " '__subclasshook__',\n",
       " '__weakref__',\n",
       " '_is_protocol',\n",
       " 'annotations',\n",
       " 'data_dir',\n",
       " 'files',\n",
       " 'label_dict',\n",
       " 'label_dir',\n",
       " 'mean',\n",
       " 'std',\n",
       " 'transform']"
      ]
     },
     "execution_count": 10,
     "metadata": {},
     "output_type": "execute_result"
    }
   ],
   "source": [
    "dir(train_dataset)"
   ]
  },
  {
   "cell_type": "raw",
   "id": "ab10e80f",
   "metadata": {},
   "source": [
    "train_dataset.annotations"
   ]
  },
  {
   "cell_type": "code",
   "execution_count": 11,
   "id": "9dec18d3",
   "metadata": {
    "scrolled": true
   },
   "outputs": [
    {
     "name": "stdout",
     "output_type": "stream",
     "text": [
      "['aaaaaocl_s005_t004_1.csv', 'aaaaalto_s001_t001_2.csv', 'aaaaalip_s001_t000_5.csv', 'aaaaakkg_s001_t000_2.csv']\n"
     ]
    }
   ],
   "source": [
    "iter_train = iter(train_loader)\n",
    "data, target, file = next(iter_train)\n",
    "data = data.to('cuda')\n",
    "target = target.to('cuda')\n",
    "print(file)"
   ]
  },
  {
   "cell_type": "code",
   "execution_count": 12,
   "id": "51050362",
   "metadata": {
    "scrolled": false
   },
   "outputs": [
    {
     "data": {
      "text/plain": [
       "tensor([ 0.0063,  0.0053,  0.0067,  0.0070,  0.0035,  0.0060,  0.0055,  0.0077,\n",
       "         0.0067,  0.0046,  0.0072,  0.0061,  0.0087,  0.0071,  0.0093,  0.0062,\n",
       "         0.0021,  0.0039, -0.0014], device='cuda:0')"
      ]
     },
     "execution_count": 12,
     "metadata": {},
     "output_type": "execute_result"
    }
   ],
   "source": [
    "data[1][1179][:]"
   ]
  },
  {
   "cell_type": "code",
   "execution_count": 13,
   "id": "2f669cfc",
   "metadata": {
    "scrolled": true
   },
   "outputs": [
    {
     "name": "stderr",
     "output_type": "stream",
     "text": [
      "DEBUG:models.resnet1D:data shape is: torch.Size([4, 19, 12000])\n",
      "DEBUG:models.resnet1D:data shape after conv1: torch.Size([4, 152, 5972])\n",
      "DEBUG:models.resnet1D:data shape after ln1: torch.Size([4, 152, 6000])\n",
      "DEBUG:models.resnet1D:data shape after avgpool: torch.Size([4, 152, 3000])\n",
      "DEBUG:models.resnet1D:layer1\n",
      "DEBUG:models.resnet1D:data shape after sub-conv1-3x3: torch.Size([4, 152, 2987]), groups=19\n",
      "DEBUG:models.resnet1D:data shape after sub-ln1: torch.Size([4, 152, 3000])\n",
      "DEBUG:models.resnet1D:data shape after sub-relu1: torch.Size([4, 152, 3000])\n",
      "DEBUG:models.resnet1D:data shape after sub-conv2-3x3: torch.Size([4, 152, 2987]), groups=19\n",
      "DEBUG:models.resnet1D:data shape after sub-ln2: torch.Size([4, 152, 3000])\n",
      "DEBUG:models.resnet1D:data shape after residual relu+res: torch.Size([4, 152, 3000])\n",
      "DEBUG:models.resnet1D:data shape after sub-conv1-3x3: torch.Size([4, 152, 2987]), groups=19\n",
      "DEBUG:models.resnet1D:data shape after sub-ln1: torch.Size([4, 152, 3000])\n",
      "DEBUG:models.resnet1D:data shape after sub-relu1: torch.Size([4, 152, 3000])\n",
      "DEBUG:models.resnet1D:data shape after sub-conv2-3x3: torch.Size([4, 152, 2987]), groups=19\n",
      "DEBUG:models.resnet1D:data shape after sub-ln2: torch.Size([4, 152, 3000])\n",
      "DEBUG:models.resnet1D:data shape after residual relu+res: torch.Size([4, 152, 3000])\n",
      "DEBUG:models.resnet1D:layer2\n",
      "DEBUG:models.resnet1D:data shape after sub-conv1-3x3: torch.Size([4, 304, 1494]), groups=19\n",
      "DEBUG:models.resnet1D:data shape after sub-ln1: torch.Size([4, 304, 1500])\n",
      "DEBUG:models.resnet1D:data shape after sub-relu1: torch.Size([4, 304, 1500])\n",
      "DEBUG:models.resnet1D:data shape after sub-conv2-3x3: torch.Size([4, 304, 1487]), groups=19\n",
      "DEBUG:models.resnet1D:data shape after sub-ln2: torch.Size([4, 304, 1500])\n",
      "DEBUG:models.resnet1D:data shape after downsample: torch.Size([4, 304, 1500]), groups=19\n",
      "DEBUG:models.resnet1D:data shape after residual relu+res: torch.Size([4, 304, 1500])\n",
      "DEBUG:models.resnet1D:data shape after sub-conv1-3x3: torch.Size([4, 304, 1487]), groups=19\n",
      "DEBUG:models.resnet1D:data shape after sub-ln1: torch.Size([4, 304, 1500])\n",
      "DEBUG:models.resnet1D:data shape after sub-relu1: torch.Size([4, 304, 1500])\n",
      "DEBUG:models.resnet1D:data shape after sub-conv2-3x3: torch.Size([4, 304, 1487]), groups=19\n",
      "DEBUG:models.resnet1D:data shape after sub-ln2: torch.Size([4, 304, 1500])\n",
      "DEBUG:models.resnet1D:data shape after residual relu+res: torch.Size([4, 304, 1500])\n",
      "DEBUG:models.resnet1D:layer3\n",
      "DEBUG:models.resnet1D:data shape after sub-conv1-3x3: torch.Size([4, 608, 744]), groups=19\n",
      "DEBUG:models.resnet1D:data shape after sub-ln1: torch.Size([4, 608, 750])\n",
      "DEBUG:models.resnet1D:data shape after sub-relu1: torch.Size([4, 608, 750])\n",
      "DEBUG:models.resnet1D:data shape after sub-conv2-3x3: torch.Size([4, 608, 737]), groups=19\n",
      "DEBUG:models.resnet1D:data shape after sub-ln2: torch.Size([4, 608, 750])\n",
      "DEBUG:models.resnet1D:data shape after downsample: torch.Size([4, 608, 750]), groups=19\n",
      "DEBUG:models.resnet1D:data shape after residual relu+res: torch.Size([4, 608, 750])\n",
      "DEBUG:models.resnet1D:data shape after sub-conv1-3x3: torch.Size([4, 608, 737]), groups=19\n",
      "DEBUG:models.resnet1D:data shape after sub-ln1: torch.Size([4, 608, 750])\n",
      "DEBUG:models.resnet1D:data shape after sub-relu1: torch.Size([4, 608, 750])\n",
      "DEBUG:models.resnet1D:data shape after sub-conv2-3x3: torch.Size([4, 608, 737]), groups=19\n",
      "DEBUG:models.resnet1D:data shape after sub-ln2: torch.Size([4, 608, 750])\n",
      "DEBUG:models.resnet1D:data shape after residual relu+res: torch.Size([4, 608, 750])\n",
      "DEBUG:models.resnet1D:layer4\n",
      "/home/yossi/anaconda3/envs/python38/lib/python3.8/site-packages/torch/nn/modules/conv.py:306: UserWarning: Plan failed with a cudnnException: CUDNN_BACKEND_EXECUTION_PLAN_DESCRIPTOR: cudnnFinalize Descriptor Failed cudnn_status: CUDNN_STATUS_NOT_SUPPORTED (Triggered internally at /opt/conda/conda-bld/pytorch_1712608851799/work/aten/src/ATen/native/cudnn/Conv_v8.cpp:919.)\n",
      "  return F.conv1d(input, weight, bias, self.stride,\n",
      "DEBUG:models.resnet1D:data shape after sub-conv1-3x3: torch.Size([4, 1216, 369]), groups=19\n",
      "DEBUG:models.resnet1D:data shape after sub-ln1: torch.Size([4, 1216, 375])\n",
      "DEBUG:models.resnet1D:data shape after sub-relu1: torch.Size([4, 1216, 375])\n",
      "DEBUG:models.resnet1D:data shape after sub-conv2-3x3: torch.Size([4, 1216, 362]), groups=19\n",
      "DEBUG:models.resnet1D:data shape after sub-ln2: torch.Size([4, 1216, 375])\n",
      "DEBUG:models.resnet1D:data shape after downsample: torch.Size([4, 1216, 375]), groups=19\n",
      "DEBUG:models.resnet1D:data shape after residual relu+res: torch.Size([4, 1216, 375])\n",
      "DEBUG:models.resnet1D:data shape after sub-conv1-3x3: torch.Size([4, 1216, 362]), groups=19\n",
      "DEBUG:models.resnet1D:data shape after sub-ln1: torch.Size([4, 1216, 375])\n",
      "DEBUG:models.resnet1D:data shape after sub-relu1: torch.Size([4, 1216, 375])\n",
      "DEBUG:models.resnet1D:data shape after sub-conv2-3x3: torch.Size([4, 1216, 362]), groups=19\n",
      "DEBUG:models.resnet1D:data shape after sub-ln2: torch.Size([4, 1216, 375])\n",
      "DEBUG:models.resnet1D:data shape after residual relu+res: torch.Size([4, 1216, 375])\n",
      "DEBUG:models.resnet1D:data shape after avgpool: torch.Size([4, 19, 256])\n"
     ]
    },
    {
     "ename": "NameError",
     "evalue": "name 'transformer_encoder' is not defined",
     "output_type": "error",
     "traceback": [
      "\u001b[0;31m---------------------------------------------------------------------------\u001b[0m",
      "\u001b[0;31mNameError\u001b[0m                                 Traceback (most recent call last)",
      "Cell \u001b[0;32mIn[13], line 1\u001b[0m\n\u001b[0;32m----> 1\u001b[0m out \u001b[38;5;241m=\u001b[39m \u001b[43mclassifier\u001b[49m\u001b[43m(\u001b[49m\u001b[43mdata\u001b[49m\u001b[43m)\u001b[49m\n\u001b[1;32m      2\u001b[0m loss \u001b[38;5;241m=\u001b[39m criterion(out, target)\n\u001b[1;32m      3\u001b[0m probabilities \u001b[38;5;241m=\u001b[39m torch\u001b[38;5;241m.\u001b[39msoftmax(out, dim\u001b[38;5;241m=\u001b[39m\u001b[38;5;241m1\u001b[39m)  \u001b[38;5;66;03m# Apply softmax to get probabilities\u001b[39;00m\n",
      "File \u001b[0;32m~/anaconda3/envs/python38/lib/python3.8/site-packages/torch/nn/modules/module.py:1532\u001b[0m, in \u001b[0;36mModule._wrapped_call_impl\u001b[0;34m(self, *args, **kwargs)\u001b[0m\n\u001b[1;32m   1530\u001b[0m     \u001b[38;5;28;01mreturn\u001b[39;00m \u001b[38;5;28mself\u001b[39m\u001b[38;5;241m.\u001b[39m_compiled_call_impl(\u001b[38;5;241m*\u001b[39margs, \u001b[38;5;241m*\u001b[39m\u001b[38;5;241m*\u001b[39mkwargs)  \u001b[38;5;66;03m# type: ignore[misc]\u001b[39;00m\n\u001b[1;32m   1531\u001b[0m \u001b[38;5;28;01melse\u001b[39;00m:\n\u001b[0;32m-> 1532\u001b[0m     \u001b[38;5;28;01mreturn\u001b[39;00m \u001b[38;5;28;43mself\u001b[39;49m\u001b[38;5;241;43m.\u001b[39;49m\u001b[43m_call_impl\u001b[49m\u001b[43m(\u001b[49m\u001b[38;5;241;43m*\u001b[39;49m\u001b[43margs\u001b[49m\u001b[43m,\u001b[49m\u001b[43m \u001b[49m\u001b[38;5;241;43m*\u001b[39;49m\u001b[38;5;241;43m*\u001b[39;49m\u001b[43mkwargs\u001b[49m\u001b[43m)\u001b[49m\n",
      "File \u001b[0;32m~/anaconda3/envs/python38/lib/python3.8/site-packages/torch/nn/modules/module.py:1541\u001b[0m, in \u001b[0;36mModule._call_impl\u001b[0;34m(self, *args, **kwargs)\u001b[0m\n\u001b[1;32m   1536\u001b[0m \u001b[38;5;66;03m# If we don't have any hooks, we want to skip the rest of the logic in\u001b[39;00m\n\u001b[1;32m   1537\u001b[0m \u001b[38;5;66;03m# this function, and just call forward.\u001b[39;00m\n\u001b[1;32m   1538\u001b[0m \u001b[38;5;28;01mif\u001b[39;00m \u001b[38;5;129;01mnot\u001b[39;00m (\u001b[38;5;28mself\u001b[39m\u001b[38;5;241m.\u001b[39m_backward_hooks \u001b[38;5;129;01mor\u001b[39;00m \u001b[38;5;28mself\u001b[39m\u001b[38;5;241m.\u001b[39m_backward_pre_hooks \u001b[38;5;129;01mor\u001b[39;00m \u001b[38;5;28mself\u001b[39m\u001b[38;5;241m.\u001b[39m_forward_hooks \u001b[38;5;129;01mor\u001b[39;00m \u001b[38;5;28mself\u001b[39m\u001b[38;5;241m.\u001b[39m_forward_pre_hooks\n\u001b[1;32m   1539\u001b[0m         \u001b[38;5;129;01mor\u001b[39;00m _global_backward_pre_hooks \u001b[38;5;129;01mor\u001b[39;00m _global_backward_hooks\n\u001b[1;32m   1540\u001b[0m         \u001b[38;5;129;01mor\u001b[39;00m _global_forward_hooks \u001b[38;5;129;01mor\u001b[39;00m _global_forward_pre_hooks):\n\u001b[0;32m-> 1541\u001b[0m     \u001b[38;5;28;01mreturn\u001b[39;00m \u001b[43mforward_call\u001b[49m\u001b[43m(\u001b[49m\u001b[38;5;241;43m*\u001b[39;49m\u001b[43margs\u001b[49m\u001b[43m,\u001b[49m\u001b[43m \u001b[49m\u001b[38;5;241;43m*\u001b[39;49m\u001b[38;5;241;43m*\u001b[39;49m\u001b[43mkwargs\u001b[49m\u001b[43m)\u001b[49m\n\u001b[1;32m   1543\u001b[0m \u001b[38;5;28;01mtry\u001b[39;00m:\n\u001b[1;32m   1544\u001b[0m     result \u001b[38;5;241m=\u001b[39m \u001b[38;5;28;01mNone\u001b[39;00m\n",
      "Cell \u001b[0;32mIn[6], line 43\u001b[0m, in \u001b[0;36mmodel.forward\u001b[0;34m(self, x)\u001b[0m\n\u001b[1;32m     41\u001b[0m         z \u001b[38;5;241m=\u001b[39m x\u001b[38;5;241m.\u001b[39mtranspose(\u001b[38;5;241m-\u001b[39m\u001b[38;5;241m1\u001b[39m,\u001b[38;5;241m-\u001b[39m\u001b[38;5;241m2\u001b[39m)\n\u001b[1;32m     42\u001b[0m         z \u001b[38;5;241m=\u001b[39m \u001b[38;5;28mself\u001b[39m\u001b[38;5;241m.\u001b[39mae(z)\n\u001b[0;32m---> 43\u001b[0m         y \u001b[38;5;241m=\u001b[39m \u001b[43mtransformer_encoder\u001b[49m(z)\n\u001b[1;32m     44\u001b[0m \u001b[38;5;66;03m#         z = torch.flatten(z, 1)\u001b[39;00m\n\u001b[1;32m     45\u001b[0m \u001b[38;5;66;03m#         y = self.mlp(z)\u001b[39;00m\n\u001b[1;32m     46\u001b[0m \u001b[38;5;66;03m#         z = self.transformer_encoder(z)\u001b[39;00m\n\u001b[1;32m     47\u001b[0m         \u001b[38;5;28;01mreturn\u001b[39;00m y\n",
      "\u001b[0;31mNameError\u001b[0m: name 'transformer_encoder' is not defined"
     ]
    }
   ],
   "source": [
    "out = classifier(data)\n",
    "loss = criterion(out, target)\n",
    "probabilities = torch.softmax(out, dim=1)  # Apply softmax to get probabilities\n",
    "#             _, predicted = torch.max(probabilities, 1)  # Get the predicted class\n",
    "print(out)\n",
    "print(probabilities)\n",
    "print(target)\n",
    "print(loss)"
   ]
  },
  {
   "cell_type": "code",
   "execution_count": null,
   "id": "5ba9443d",
   "metadata": {},
   "outputs": [],
   "source": []
  },
  {
   "cell_type": "code",
   "execution_count": null,
   "id": "bec638b9",
   "metadata": {
    "scrolled": false
   },
   "outputs": [],
   "source": [
    "classifier.ae"
   ]
  },
  {
   "cell_type": "raw",
   "id": "a44d9a5e",
   "metadata": {
    "scrolled": true
   },
   "source": [
    "input_pe = input_layer(data)\n",
    "out = classifier(input_pe)"
   ]
  },
  {
   "cell_type": "markdown",
   "id": "6803bab0",
   "metadata": {},
   "source": [
    "#### Check eval results"
   ]
  },
  {
   "cell_type": "raw",
   "id": "029fba4b",
   "metadata": {},
   "source": [
    "model_para = torch.load('weights/resnet18_best.pth')\n",
    "classifier.load_state_dict(model_para['model_state_dict'])\n",
    "classifier.cuda().eval()\n",
    "\n",
    "train_signal = iter(train_loader)\n",
    "eval_signal = iter(eval_loader)\n",
    "\n",
    "train_data = next(train_signal)\n",
    "\n",
    "x_train, y_train = train_data[0].to('cuda'), train_data[1].to('cuda')\n",
    "train_pred = classifier(x_train)\n",
    "train_loss = criterion(train_pred, y_train)\n",
    "train_loss\n",
    "\n",
    "eval_data = next(eval_signal)\n",
    "\n",
    "x_eval, y_eval = eval_data[0].to('cuda'), eval_data[1].to('cuda')\n",
    "eval_pred = classifier(x_eval)\n",
    "eval_loss = criterion(eval_pred, y_eval)\n",
    "eval_loss\n",
    "\n",
    "train_pred, eval_pred\n",
    "y_train, y_eval\n",
    "\n",
    "_, predicted = torch.max(eval_pred, 1)\n",
    "predicted"
   ]
  },
  {
   "cell_type": "raw",
   "id": "8add33de",
   "metadata": {
    "scrolled": true
   },
   "source": [
    "## Validate results\n",
    "\n",
    "import torch.nn.functional as F\n",
    "val_loss = 0\n",
    "total = 0\n",
    "correct = 0\n",
    "for batch_index, (data,target,_) in enumerate(eval_loader, 0):\n",
    "    data, target = data.to('cuda'), target.to('cuda')\n",
    "    outputs = classifier(data)\n",
    "    print(_)\n",
    "    loss = criterion(outputs, target)\n",
    "    val_loss += loss.item()\n",
    "    probabilities = F.softmax(outputs, dim=1)\n",
    "    print(loss.item(), probabilities)\n",
    "    _, predicted = torch.max(probabilities, 1)\n",
    "    print(predicted, target)\n",
    "    total += target.size(0)  # Total number of samples\n",
    "    correct += (predicted == target).sum().item()  # Count correct predictions\n",
    "    print(correct, total)\n",
    "    val_loss /= len(eval_loader)\n",
    "    val_accuracy = 100 * correct / total"
   ]
  },
  {
   "cell_type": "markdown",
   "id": "c39bd691",
   "metadata": {},
   "source": [
    "### Dataset"
   ]
  },
  {
   "cell_type": "code",
   "execution_count": null,
   "id": "4e13daac",
   "metadata": {},
   "outputs": [],
   "source": [
    "class customDataset(Dataset):\n",
    "    def __init__(self, data_dir:str, label_dir:str, label_dict:dict, transform=None):\n",
    "#         self.annotations = pd.read_csv(label_dir)\n",
    "        self.data_dir = data_dir   # './data/origin_csv/train'\n",
    "        self.label_dir = label_dir\n",
    "        self.transform = transform\n",
    "        self.files = os.listdir(self.data_dir)\n",
    "        self.annotations = pd.read_csv(self.label_dir)\n",
    "        self.label_dict = label_dict\n",
    "        \n",
    "    def __len__(self):\n",
    "        return len(self.files)\n",
    "    \n",
    "    def __getitem__(self, index):\n",
    "        data_path = os.path.join(self.data_dir, self.files[index])\n",
    "        data = pd.read_csv(data_path)\n",
    "        data = torch.tensor(data.values, dtype=torch.float32)\n",
    "        file_name = self.files[index]\n",
    "        \n",
    "        label = torch.tensor(int(self.label_dict[self.annotations.iloc[index,1]]))\n",
    "        \n",
    "        if self.transform:\n",
    "            data = self.transform(data)\n",
    "            \n",
    "        return (data, label, file_name)"
   ]
  },
  {
   "cell_type": "code",
   "execution_count": null,
   "id": "08d0d8e3",
   "metadata": {},
   "outputs": [],
   "source": [
    "\n",
    "# label_dic = {'normal':0, 'abnormal':1}\n",
    "\n",
    "    \n",
    "# transform = transforms.Compose([\n",
    "#     transforms.MinMaxScaler(feature_range=(0, 1)),\n",
    "#     transforms.ToTensor(),\n",
    "# ])\n",
    "# combined_dataset = ConcatDataset([train_dataset, eval_dataset])"
   ]
  },
  {
   "cell_type": "markdown",
   "id": "6a157aec",
   "metadata": {},
   "source": [
    "### Define model"
   ]
  },
  {
   "cell_type": "code",
   "execution_count": null,
   "id": "7e93cba4",
   "metadata": {},
   "outputs": [],
   "source": [
    "### Learning rate update policy\n",
    "def poly_lr_scheduler(optimizer, init_lr, iter, lr_decay_iter=1,\n",
    "                      max_iter=0, power=0.9):\n",
    "    \"\"\"Polynomial decay of learning rate\n",
    "        :param init_lr is base learning rate\n",
    "        :param iter is a current iteration\n",
    "        :param lr_decay_iter how frequently decay occurs, default is 1\n",
    "        :param max_iter is number of maximum iterations\n",
    "        :param power is a polymomial power\n",
    "    \"\"\"\n",
    "    if max_iter == 0:\n",
    "        raise Exception(\"MAX ITERATION CANNOT BE ZERO!\")\n",
    "    if iter % lr_decay_iter or iter > max_iter:\n",
    "        return optimizer\n",
    "    lr = init_lr * (1 - iter / max_iter) ** power\n",
    "    logger.info(f'lr=: {lr}')\n",
    "    for param_group in optimizer.param_groups:\n",
    "        param_group['lr'] = lr\n",
    "    return lr"
   ]
  },
  {
   "cell_type": "markdown",
   "id": "8e972650",
   "metadata": {},
   "source": [
    "### Train"
   ]
  },
  {
   "cell_type": "code",
   "execution_count": null,
   "id": "f9c11398",
   "metadata": {},
   "outputs": [],
   "source": [
    "def train(Configs:dict):\n",
    "    train_data_dir = Configs['dataset']['train_data_dir']\n",
    "    train_label_dir = Configs['dataset']['train_label_dir']\n",
    "\n",
    "    val_data_dir = Configs['dataset']['val_data_dir']\n",
    "    val_label_dir = Configs['dataset']['val_label_dir']\n",
    "\n",
    "    label_dict = Configs['dataset']['classes']\n",
    "    train_dataset = customDataset(data_dir=train_data_dir,\n",
    "                                  label_dir=train_label_dir,\n",
    "                                  label_dict=label_dict)\n",
    "    val_dataset = customDataset(data_dir=val_data_dir,\n",
    "                                label_dir=val_label_dir,\n",
    "                                label_dict=label_dict)\n",
    "    \n",
    "    train_loader = DataLoader(dataset=train_dataset, batch_size=Configs['train']['batch_size'],\n",
    "                                  shuffle=True, num_workers=16, pin_memory=True)\n",
    "\n",
    "    eval_loader = DataLoader(dataset=val_dataset, num_workers=16, shuffle=True, pin_memory=True)\n",
    "\n",
    "    classifier = transformer_classifier(input_size=Configs['input_size'], \n",
    "                                        n_channels = Configs['n_channels'],\n",
    "                                        model_hyp=Configs['model'],\n",
    "                                        classes=len(Configs['dataset']['classes'])).to('cuda')\n",
    "    optimizer = torch.optim.Adam(classifier.parameters(),betas=(0.9,0.9),lr=Configs['optimizer']['init_lr'])\n",
    "    criterion = nn.CrossEntropyLoss()\n",
    "    writer = SummaryWriter(Configs['tensorboard']['runs_dir']+'train_board')    # Initilize tensorflow\n",
    "    \n",
    "    ### Warmup training\n",
    "    warmup_steps = Configs['train']['warmup_steps']\n",
    "    warmup_step = 0\n",
    "    min_loss = 1\n",
    "    while warmup_step < warmup_steps:\n",
    "        for batch_index, (data,target,_) in enumerate(train_loader, 0):\n",
    "            if warmup_step < warmup_steps:\n",
    "        #     for batch_index, data in enumerate(train_loader, 0):\n",
    "                data, target = data.to('cuda'), target.to('cuda')\n",
    "                y = classifier(data)\n",
    "        #         logger.debug(f\"y size:{y.shape}, tatget size{target.shape}\")\n",
    "                warmup_loss = criterion(y, target)\n",
    "                optimizer.zero_grad()\n",
    "                warmup_loss.backward()\n",
    "                optimizer.step()\n",
    "        #         logger.info(f'Epoch: {epoch+1}, Train Loss: {train_loss}')\n",
    "                logger.info(f\"Warmup Step: {warmup_step}, Warmup Loss: {warmup_loss}\")\n",
    "                writer.add_scalar('Warmup Loss', warmup_loss, global_step=warmup_step)\n",
    "                warmup_step += 1\n",
    "        \n",
    "#         if warmup_step%5==0:\n",
    "#             torch.save(classifier.state_dict(), \n",
    "#                        Configs['checkpoint']['checkpoint_dir']+'inte_transformer_params_last.pth')\n",
    "        if warmup_loss < min_loss:\n",
    "            torch.save(classifier.state_dict(),\n",
    "                       Configs['checkpoint']['checkpoint_dir']+'inte_transformer_params_best.pth')\n",
    "            min_loss = warmup_loss\n",
    "        \n",
    "    \n",
    "    ### train\n",
    "#     step = 0\n",
    "#     epochs = Configs['train']['n_epochs']\n",
    "#     for epoch in range(epochs):\n",
    "#         # Training loop\n",
    "#         poly_lr_scheduler(optimizer, init_lr=Configs['optimizer']['init_lr'], iter=epoch, max_iter=epochs)\n",
    "#         for batch_index, (data,target,_) in enumerate(train_loader, 0):\n",
    "#             data, target = data.to('cuda'), target.to('cuda')\n",
    "#             y = classifier(data)\n",
    "#     #         logger.debug(f\"y size:{y.shape}, tatget size{target.shape}\")\n",
    "#             train_loss = criterion(y, target)\n",
    "#             optimizer.zero_grad()\n",
    "#             train_loss.backward()\n",
    "#             optimizer.step()\n",
    "#     #         logger.info(f'Epoch: {epoch+1}, Train Loss: {train_loss}')\n",
    "#             logger.info(f\"Step: {step}, training Loss: {train_loss}\")\n",
    "#             writer.add_scalar('Training Loss', train_loss, global_step=step)\n",
    "#             step += 1\n",
    "        \n",
    "#         if epoch%5==0:\n",
    "#             val_loss = 0\n",
    "#             correct = 0\n",
    "#             total = 0\n",
    "#             accuracy = 0\n",
    "#             with torch.no_grad():\n",
    "#                 for batch_index, (data,target,_) in enumerate(eval_loader, 0):\n",
    "#                     data, target = data.to('cuda'), target.to('cuda')\n",
    "#                     outputs = classifier(data)\n",
    "#                     loss = criterion(outputs, target)\n",
    "#                     val_loss += loss.item()\n",
    "#                     _, predicted = torch.max(outputs, 1)\n",
    "#                     total += target.size(0)  # Total number of samples\n",
    "#                     correct += (predicted == target).sum().item()  # Count correct predictions\n",
    "\n",
    "#             val_loss /= len(eval_loader)\n",
    "#             accuracy = 100 * correct / total\n",
    "#             writer.add_scalar('Validation Loss', val_loss, global_step=step)\n",
    "#             writer.add_scalar('Validation Accuracy', accuracy, global_step=step)\n",
    "#             logger.info(f'Epoch: {epoch}, Train Loss: {train_loss}, Val Loss: {val_loss:.4f}, Accuracy: {accuracy:.2f}%')\n",
    "\n",
    "#         torch.save(classifier.state_dict(), \n",
    "#                    Configs['checkpoint']['checkpoint_dir']+'inte_transformer_params_latest.pth')\n",
    "#         if train_loss < min_loss:\n",
    "#             torch.save(classifier.state_dict(),\n",
    "#                        Configs['checkpoint']['checkpoint_dir']+'inte_transformer_params_best.pth')\n",
    "#             min_loss = train_loss"
   ]
  },
  {
   "cell_type": "code",
   "execution_count": null,
   "id": "5a4333cb",
   "metadata": {
    "scrolled": true
   },
   "outputs": [],
   "source": [
    "parser = argparse.ArgumentParser()\n",
    "parser.add_argument(\"config_file\", metavar=\"FILE\", help=\"config file\")\n",
    "# parser.add_argument('--run-dir', metavar='DIR', help='run directory')\n",
    "# parser.add_argument('--pdb', action='store_true', help='pdb')\n",
    "args = parser.parse_args(args=['configs/eeg_torch.yml'])\n",
    "# args, opts = parser.parse_known_args()\n",
    "# f = 'configs/eeg_pt.yml'\n",
    "with open(args.config_file, 'r') as file:\n",
    "    configs = yaml.safe_load(file)\n",
    "    \n",
    "# configs['optimizer']['init_lr']\n",
    "# train(Configs=configs)"
   ]
  },
  {
   "cell_type": "code",
   "execution_count": null,
   "id": "f5a30a9b",
   "metadata": {},
   "outputs": [],
   "source": [
    "n_channels = 19\n",
    "ae_1 = nn.Sequential(nn.Conv1d(in_channels=n_channels, out_channels=n_channels, \n",
    "                               stride=3, kernel_size=7, dilation=1, groups=n_channels,\n",
    "                               padding_mode='reflect'),\n",
    "                     nn.BatchNorm1d(n_channels),\n",
    "                     nn.ReLU())\n",
    "ae_2 = nn.Sequential(nn.Conv1d(in_channels=n_channels, out_channels=n_channels, \n",
    "                               stride=2, kernel_size=4, dilation=1, groups=n_channels,\n",
    "                               padding_mode='reflect'),\n",
    "                     nn.BatchNorm1d(n_channels),\n",
    "                     nn.ReLU())\n",
    "ae_3 = nn.Sequential(nn.Conv1d(in_channels=n_channels, out_channels=n_channels, \n",
    "                               stride=2, kernel_size=4, dilation=1, groups=n_channels,\n",
    "                               padding_mode='reflect'),\n",
    "                     nn.BatchNorm1d(n_channels),\n",
    "                     nn.ReLU())\n",
    "\n",
    "# max_pool = nn.MaxPool1d(kernel_size=2, stride=1)\n",
    "in_data = torch.randn(20, 19, 6000)\n",
    "out_1 = ae_1(in_data)\n",
    "out_2 = ae_2(out_1)\n",
    "out_3 = ae_3(out_2)\n",
    "# out_data = max_pool(out_data)\n",
    "out_1.shape, out_2.shape, out_3.shape\n",
    "# 5660 stride 11"
   ]
  },
  {
   "cell_type": "code",
   "execution_count": null,
   "id": "40261902",
   "metadata": {},
   "outputs": [],
   "source": [
    "class transformer_classifier(nn.Module):\n",
    "    def __init__(self, input_size:int, n_channels:int, model_hyp:dict, classes:int):\n",
    "        super(transformer_classifier, self).__init__()\n",
    "        \n",
    "        self.ae_1 = nn.Sequential(nn.Conv1d(in_channels=n_channels, out_channels=n_channels, \n",
    "                                     stride=3, kernel_size=7, dilation=1, groups=n_channels,\n",
    "                                            padding_mode='reflect'),\n",
    "                                 nn.BatchNorm1d(n_channels),\n",
    "                                 nn.ReLU())\n",
    "        \n",
    "        self.ae_2 = nn.Sequential(nn.Conv1d(in_channels=n_channels, out_channels=n_channels, \n",
    "                                     stride=2, kernel_size=4, dilation=1, groups=n_channels,\n",
    "                                            padding_mode='reflect'),\n",
    "                                 nn.BatchNorm1d(n_channels),\n",
    "                                 nn.ReLU())\n",
    "\n",
    "        self.ae_3 = nn.Sequential(nn.Conv1d(in_channels=n_channels, out_channels=n_channels, \n",
    "                                     stride=2, kernel_size=4, dilation=1, groups=n_channels,\n",
    "                                            padding_mode='reflect'),\n",
    "                                 nn.BatchNorm1d(n_channels),\n",
    "                                 nn.ReLU())\n",
    "#         self.hidden_size = 597    # need to be calculated every time if you change shape of input\n",
    "#         self.ae = AutoEncoder(input_size=input_size, hidden_size=model_hyp['d_model'])  \n",
    "        self.encoder_layer = nn.TransformerEncoderLayer(d_model=model_hyp['d_model'],\n",
    "                                                        nhead=model_hyp['n_head'])\n",
    "        self.transformer_encoder = nn.TransformerEncoder(self.encoder_layer, num_layers=model_hyp['n_layer'])\n",
    "        self.flatten = nn.Flatten()\n",
    "        self.linear = nn.Linear(model_hyp['d_model']*n_channels, classes)\n",
    "\n",
    "    def forward(self, x):\n",
    "        z = self.ae_1(x)\n",
    "        z = self.ae_2(z)\n",
    "        z = self.ae_3(z)\n",
    "#         z = z[:, :, :1496] \n",
    "        logger.debug(f\"ae output size: %{z.shape}\")\n",
    "        z = self.transformer_encoder(z)\n",
    "        logger.debug(f\"transformer output size: %{z.shape}\")\n",
    "        z = self.flatten(z)\n",
    "        logger.debug(f\"flatten output size: %{z.shape}\")\n",
    "        y = self.linear(z)\n",
    "        return y"
   ]
  },
  {
   "cell_type": "code",
   "execution_count": null,
   "id": "6e8046f9",
   "metadata": {},
   "outputs": [],
   "source": [
    "in_data = torch.randn(20, 19, 6000).to('cuda')\n",
    "classifier = transformer_classifier(input_size=6000, n_channels =19,model_hyp=configs['model'],classes=len(configs['dataset']['classes'])).to('cuda')\n",
    "out = classifier(in_data)"
   ]
  },
  {
   "cell_type": "code",
   "execution_count": null,
   "id": "592583d3",
   "metadata": {},
   "outputs": [],
   "source": [
    "# target output size of 5\n",
    "m = nn.AdaptiveAvgPool2d((19,5))\n",
    "input = torch.randn(1, 64, 8)\n",
    "output = m(input)\n",
    "output.shape"
   ]
  },
  {
   "cell_type": "code",
   "execution_count": null,
   "id": "710b4529",
   "metadata": {},
   "outputs": [],
   "source": [
    "class model(nn.Module):\n",
    "    def __init__(self, input_size: int, n_channels: int, model_hyp: dict, classes: int):\n",
    "        super(model, self).__init__()\n",
    "        self.pe = PositionalEncoding(d_model=n_channels, max_len=input_size)\n",
    "        self.ae = resnet18(n_channels=n_channels, groups=n_channels, num_classes=classes, d_model=model_hyp['d_model'])\n",
    "        self.transformer_encoder = transformer_classifier(input_size, n_channels, model_hyp, classes)\n",
    "\n",
    "    def forward(self, x):\n",
    "        z = self.pe(x)\n",
    "        z = z.transpose(-1,-2)\n",
    "        z = self.ae(z)\n",
    "        z = self.transformer_encoder(z)\n",
    "        return z"
   ]
  },
  {
   "cell_type": "code",
   "execution_count": null,
   "id": "1bf605cc",
   "metadata": {},
   "outputs": [],
   "source": []
  },
  {
   "cell_type": "code",
   "execution_count": null,
   "id": "c4b8e1d1",
   "metadata": {
    "scrolled": true
   },
   "outputs": [],
   "source": [
    "if __name__ == \"__main__\":\n",
    "    logger = logging.getLogger(__name__)  # Use the current module's name\n",
    "#     logging.basicConfig(filename=f'./logs/{datetime.now().strftime(\"%y%m%d%H%M\")}_resnet18.log',level=logging.DEBUG)\n",
    "    logging.basicConfig(level=logging.DEBUG)\n",
    "    # logger.setLevel(logging.DEBUG)\n",
    "    handler = logging.StreamHandler()\n",
    "    # formatter = logging.Formatter('%(asctime)s - %(levelname)s - %(message)s')\n",
    "    # handler.setFormatter(formatter)\n",
    "    logger.addHandler(handler)\n",
    "\n",
    "    classifier = model(input_size=Configs['input_size'],\n",
    "                                        n_channels = Configs['n_channels'],\n",
    "                                        model_hyp=Configs['model'],\n",
    "                                        classes=len(Configs['dataset']['classes'])).to('cuda')"
   ]
  },
  {
   "cell_type": "code",
   "execution_count": null,
   "id": "412124e5",
   "metadata": {},
   "outputs": [],
   "source": [
    "for m in classifier.modules():\n",
    "    print(m)"
   ]
  },
  {
   "cell_type": "code",
   "execution_count": null,
   "id": "027c4fcb",
   "metadata": {
    "scrolled": false
   },
   "outputs": [],
   "source": [
    "for m in classifier.parameters():\n",
    "    print(m.dim(),m.shape, type(m))"
   ]
  }
 ],
 "metadata": {
  "kernelspec": {
   "display_name": "Python [conda env:python38]",
   "language": "python",
   "name": "conda-env-python38-py"
  },
  "language_info": {
   "codemirror_mode": {
    "name": "ipython",
    "version": 3
   },
   "file_extension": ".py",
   "mimetype": "text/x-python",
   "name": "python",
   "nbconvert_exporter": "python",
   "pygments_lexer": "ipython3",
   "version": "3.8.16"
  },
  "varInspector": {
   "cols": {
    "lenName": "50",
    "lenType": "50",
    "lenVar": "80"
   },
   "kernels_config": {
    "python": {
     "delete_cmd_postfix": "",
     "delete_cmd_prefix": "del ",
     "library": "var_list.py",
     "varRefreshCmd": "print(var_dic_list())"
    },
    "r": {
     "delete_cmd_postfix": ") ",
     "delete_cmd_prefix": "rm(",
     "library": "var_list.r",
     "varRefreshCmd": "cat(var_dic_list()) "
    }
   },
   "types_to_exclude": [
    "module",
    "function",
    "builtin_function_or_method",
    "instance",
    "_Feature"
   ],
   "window_display": false
  }
 },
 "nbformat": 4,
 "nbformat_minor": 5
}
