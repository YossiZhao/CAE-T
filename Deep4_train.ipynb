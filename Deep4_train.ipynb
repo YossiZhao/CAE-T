{
 "cells": [
  {
   "cell_type": "code",
   "execution_count": 1,
   "id": "ab7f0201",
   "metadata": {},
   "outputs": [
    {
     "name": "stderr",
     "output_type": "stream",
     "text": [
      "/home/yossi/.local/lib/python3.8/site-packages/transformers/utils/generic.py:482: UserWarning: torch.utils._pytree._register_pytree_node is deprecated. Please use torch.utils._pytree.register_pytree_node instead.\n",
      "  _torch_pytree._register_pytree_node(\n"
     ]
    }
   ],
   "source": [
    "from braindecode.util import set_random_seeds\n",
    "from braindecode.models import Deep4Net\n",
    "from braindecode.models import ShallowFBCSPNet\n",
    "import torch\n",
    "\n",
    "import numpy as np\n",
    "import pandas as pd\n",
    "\n",
    "from braindecode.datasets import BaseConcatDataset, BaseDataset\n",
    "from braindecode.util import create_mne_dummy_raw"
   ]
  },
  {
   "cell_type": "code",
   "execution_count": null,
   "id": "85839623",
   "metadata": {},
   "outputs": [],
   "source": []
  },
  {
   "cell_type": "code",
   "execution_count": 2,
   "id": "f0855d41",
   "metadata": {},
   "outputs": [],
   "source": [
    "n_fake_rec = 20\n",
    "n_fake_chans = 21\n",
    "fake_sfreq = 100\n",
    "fake_duration = 30\n",
    "n_fake_targets = 1\n",
    "\n",
    "# Choosing a CNN model\n",
    "model_name = \"deep\"  # 'shallow' or 'deep'"
   ]
  },
  {
   "cell_type": "code",
   "execution_count": 10,
   "id": "fdc5d2ee",
   "metadata": {
    "scrolled": true
   },
   "outputs": [],
   "source": [
    "model = Deep4Net(in_chans=19, n_classes=2,\n",
    "                 input_window_samples=12000,\n",
    "                 n_filters_time=25, n_filters_spat=25,\n",
    "                 stride_before_pool=True,\n",
    "                 n_filters_2=n_fake_chans * 2,\n",
    "                 n_filters_3=n_fake_chans * 4,\n",
    "                 n_filters_4=n_fake_chans * 8,\n",
    "                 final_conv_length=1,\n",
    "                 add_log_softmax=False, )"
   ]
  },
  {
   "cell_type": "code",
   "execution_count": 11,
   "id": "86d17df2",
   "metadata": {
    "scrolled": true
   },
   "outputs": [
    {
     "data": {
      "text/plain": [
       "Deep4Net(\n",
       "  (ensuredims): Ensure4d()\n",
       "  (dimshuffle): Rearrange('batch C T 1 -> batch 1 T C')\n",
       "  (conv_time_spat): CombinedConv(\n",
       "    (conv_time): Conv2d(1, 25, kernel_size=(10, 1), stride=(1, 1))\n",
       "    (conv_spat): Conv2d(25, 25, kernel_size=(1, 19), stride=(1, 1), bias=False)\n",
       "  )\n",
       "  (bnorm): BatchNorm2d(25, eps=1e-05, momentum=0.1, affine=True, track_running_stats=True)\n",
       "  (conv_nonlin): Expression(expression=elu) \n",
       "  (pool): MaxPool2d(kernel_size=(3, 1), stride=(1, 1), padding=0, dilation=1, ceil_mode=False)\n",
       "  (pool_nonlin): Expression(expression=identity) \n",
       "  (drop_2): Dropout(p=0.5, inplace=False)\n",
       "  (conv_2): Conv2d(25, 42, kernel_size=(10, 1), stride=(3, 1), bias=False)\n",
       "  (bnorm_2): BatchNorm2d(42, eps=1e-05, momentum=0.1, affine=True, track_running_stats=True)\n",
       "  (nonlin_2): Expression(expression=elu) \n",
       "  (pool_2): MaxPool2d(kernel_size=(3, 1), stride=(1, 1), padding=0, dilation=1, ceil_mode=False)\n",
       "  (pool_nonlin_2): Expression(expression=identity) \n",
       "  (drop_3): Dropout(p=0.5, inplace=False)\n",
       "  (conv_3): Conv2d(42, 84, kernel_size=(10, 1), stride=(3, 1), bias=False)\n",
       "  (bnorm_3): BatchNorm2d(84, eps=1e-05, momentum=0.1, affine=True, track_running_stats=True)\n",
       "  (nonlin_3): Expression(expression=elu) \n",
       "  (pool_3): MaxPool2d(kernel_size=(3, 1), stride=(1, 1), padding=0, dilation=1, ceil_mode=False)\n",
       "  (pool_nonlin_3): Expression(expression=identity) \n",
       "  (drop_4): Dropout(p=0.5, inplace=False)\n",
       "  (conv_4): Conv2d(84, 168, kernel_size=(10, 1), stride=(3, 1), bias=False)\n",
       "  (bnorm_4): BatchNorm2d(168, eps=1e-05, momentum=0.1, affine=True, track_running_stats=True)\n",
       "  (nonlin_4): Expression(expression=elu) \n",
       "  (pool_4): MaxPool2d(kernel_size=(3, 1), stride=(1, 1), padding=0, dilation=1, ceil_mode=False)\n",
       "  (pool_nonlin_4): Expression(expression=identity) \n",
       "  (final_layer): Sequential(\n",
       "    (conv_classifier): Conv2d(168, 2, kernel_size=(1, 1), stride=(1, 1))\n",
       "    (squeeze): Expression(expression=squeeze_final_output) \n",
       "  )\n",
       ")"
      ]
     },
     "execution_count": 11,
     "metadata": {},
     "output_type": "execute_result"
    }
   ],
   "source": [
    "model"
   ]
  },
  {
   "cell_type": "code",
   "execution_count": 5,
   "id": "0dd461af",
   "metadata": {
    "collapsed": true
   },
   "outputs": [
    {
     "data": {
      "text/plain": [
       "['T_destination',\n",
       " '__add__',\n",
       " '__annotations__',\n",
       " '__call__',\n",
       " '__class__',\n",
       " '__delattr__',\n",
       " '__delitem__',\n",
       " '__dict__',\n",
       " '__dir__',\n",
       " '__doc__',\n",
       " '__eq__',\n",
       " '__format__',\n",
       " '__ge__',\n",
       " '__getattr__',\n",
       " '__getattribute__',\n",
       " '__getitem__',\n",
       " '__getstate__',\n",
       " '__gt__',\n",
       " '__hash__',\n",
       " '__iadd__',\n",
       " '__imul__',\n",
       " '__init__',\n",
       " '__init_subclass__',\n",
       " '__iter__',\n",
       " '__le__',\n",
       " '__len__',\n",
       " '__lt__',\n",
       " '__module__',\n",
       " '__mul__',\n",
       " '__ne__',\n",
       " '__new__',\n",
       " '__reduce__',\n",
       " '__reduce_ex__',\n",
       " '__repr__',\n",
       " '__rmul__',\n",
       " '__setattr__',\n",
       " '__setitem__',\n",
       " '__setstate__',\n",
       " '__sizeof__',\n",
       " '__str__',\n",
       " '__subclasshook__',\n",
       " '__weakref__',\n",
       " '_add_log_softmax',\n",
       " '_apply',\n",
       " '_backward_hooks',\n",
       " '_backward_pre_hooks',\n",
       " '_buffers',\n",
       " '_call_impl',\n",
       " '_chs_info',\n",
       " '_compiled_call_impl',\n",
       " '_forward_hooks',\n",
       " '_forward_hooks_always_called',\n",
       " '_forward_hooks_with_kwargs',\n",
       " '_forward_pre_hooks',\n",
       " '_forward_pre_hooks_with_kwargs',\n",
       " '_get_backward_hooks',\n",
       " '_get_backward_pre_hooks',\n",
       " '_get_item_by_idx',\n",
       " '_get_name',\n",
       " '_input_window_seconds',\n",
       " '_is_full_backward_hook',\n",
       " '_load_from_state_dict',\n",
       " '_load_state_dict_post_hooks',\n",
       " '_load_state_dict_pre_hooks',\n",
       " '_maybe_warn_non_full_backward_hook',\n",
       " '_modules',\n",
       " '_n_chans',\n",
       " '_n_outputs',\n",
       " '_n_times',\n",
       " '_named_members',\n",
       " '_non_persistent_buffers_set',\n",
       " '_parameters',\n",
       " '_register_load_state_dict_pre_hook',\n",
       " '_register_state_dict_hook',\n",
       " '_replicate_for_data_parallel',\n",
       " '_save_to_state_dict',\n",
       " '_sfreq',\n",
       " '_slow_forward',\n",
       " '_state_dict_hooks',\n",
       " '_state_dict_pre_hooks',\n",
       " '_version',\n",
       " '_wrapped_call_impl',\n",
       " 'add_log_softmax',\n",
       " 'add_module',\n",
       " 'append',\n",
       " 'apply',\n",
       " 'batch_norm',\n",
       " 'batch_norm_alpha',\n",
       " 'bfloat16',\n",
       " 'bnorm',\n",
       " 'bnorm_2',\n",
       " 'bnorm_3',\n",
       " 'bnorm_4',\n",
       " 'buffers',\n",
       " 'call_super_init',\n",
       " 'children',\n",
       " 'chs_info',\n",
       " 'compile',\n",
       " 'conv_2',\n",
       " 'conv_3',\n",
       " 'conv_4',\n",
       " 'conv_nonlin',\n",
       " 'conv_time_spat',\n",
       " 'cpu',\n",
       " 'cuda',\n",
       " 'dimshuffle',\n",
       " 'double',\n",
       " 'drop_2',\n",
       " 'drop_3',\n",
       " 'drop_4',\n",
       " 'drop_prob',\n",
       " 'dump_patches',\n",
       " 'ensuredims',\n",
       " 'eval',\n",
       " 'extend',\n",
       " 'extra_repr',\n",
       " 'filter_length_2',\n",
       " 'filter_length_3',\n",
       " 'filter_length_4',\n",
       " 'filter_time_length',\n",
       " 'final_conv_length',\n",
       " 'final_layer',\n",
       " 'first_nonlin',\n",
       " 'first_pool_mode',\n",
       " 'first_pool_nonlin',\n",
       " 'float',\n",
       " 'forward',\n",
       " 'get_buffer',\n",
       " 'get_extra_state',\n",
       " 'get_output_shape',\n",
       " 'get_parameter',\n",
       " 'get_submodule',\n",
       " 'get_torchinfo_statistics',\n",
       " 'half',\n",
       " 'input_shape',\n",
       " 'input_window_seconds',\n",
       " 'insert',\n",
       " 'ipu',\n",
       " 'later_conv_nonlin',\n",
       " 'later_pool_mode',\n",
       " 'later_pool_nonlin',\n",
       " 'load_state_dict',\n",
       " 'mapping',\n",
       " 'mapping',\n",
       " 'modules',\n",
       " 'n_chans',\n",
       " 'n_filters_2',\n",
       " 'n_filters_3',\n",
       " 'n_filters_4',\n",
       " 'n_filters_spat',\n",
       " 'n_filters_time',\n",
       " 'n_outputs',\n",
       " 'n_times',\n",
       " 'named_buffers',\n",
       " 'named_children',\n",
       " 'named_modules',\n",
       " 'named_parameters',\n",
       " 'nonlin_2',\n",
       " 'nonlin_3',\n",
       " 'nonlin_4',\n",
       " 'parameters',\n",
       " 'pool',\n",
       " 'pool_2',\n",
       " 'pool_3',\n",
       " 'pool_4',\n",
       " 'pool_nonlin',\n",
       " 'pool_nonlin_2',\n",
       " 'pool_nonlin_3',\n",
       " 'pool_nonlin_4',\n",
       " 'pool_time_length',\n",
       " 'pool_time_stride',\n",
       " 'pop',\n",
       " 'register_backward_hook',\n",
       " 'register_buffer',\n",
       " 'register_forward_hook',\n",
       " 'register_forward_pre_hook',\n",
       " 'register_full_backward_hook',\n",
       " 'register_full_backward_pre_hook',\n",
       " 'register_load_state_dict_post_hook',\n",
       " 'register_module',\n",
       " 'register_parameter',\n",
       " 'register_state_dict_pre_hook',\n",
       " 'requires_grad_',\n",
       " 'set_extra_state',\n",
       " 'sfreq',\n",
       " 'share_memory',\n",
       " 'split_first_layer',\n",
       " 'state_dict',\n",
       " 'stride_before_pool',\n",
       " 'to',\n",
       " 'to_dense_prediction_model',\n",
       " 'to_empty',\n",
       " 'train',\n",
       " 'training',\n",
       " 'type',\n",
       " 'xpu',\n",
       " 'zero_grad']"
      ]
     },
     "execution_count": 5,
     "metadata": {},
     "output_type": "execute_result"
    }
   ],
   "source": [
    "dir(model)"
   ]
  },
  {
   "cell_type": "code",
   "execution_count": 15,
   "id": "69a27800",
   "metadata": {},
   "outputs": [],
   "source": [
    "x = torch.rand(4,19,12000)\n",
    "y = model(x)"
   ]
  },
  {
   "cell_type": "code",
   "execution_count": 16,
   "id": "c923a9a5",
   "metadata": {},
   "outputs": [
    {
     "data": {
      "text/plain": [
       "torch.Size([4, 2, 437])"
      ]
     },
     "execution_count": 16,
     "metadata": {},
     "output_type": "execute_result"
    }
   ],
   "source": [
    "y.shape"
   ]
  }
 ],
 "metadata": {
  "kernelspec": {
   "display_name": "Python 3 (ipykernel)",
   "language": "python",
   "name": "python3"
  },
  "language_info": {
   "codemirror_mode": {
    "name": "ipython",
    "version": 3
   },
   "file_extension": ".py",
   "mimetype": "text/x-python",
   "name": "python",
   "nbconvert_exporter": "python",
   "pygments_lexer": "ipython3",
   "version": "3.8.16"
  },
  "varInspector": {
   "cols": {
    "lenName": "50",
    "lenType": "50",
    "lenVar": "80"
   },
   "kernels_config": {
    "python": {
     "delete_cmd_postfix": "",
     "delete_cmd_prefix": "del ",
     "library": "var_list.py",
     "varRefreshCmd": "print(var_dic_list())"
    },
    "r": {
     "delete_cmd_postfix": ") ",
     "delete_cmd_prefix": "rm(",
     "library": "var_list.r",
     "varRefreshCmd": "cat(var_dic_list()) "
    }
   },
   "types_to_exclude": [
    "module",
    "function",
    "builtin_function_or_method",
    "instance",
    "_Feature"
   ],
   "window_display": false
  }
 },
 "nbformat": 4,
 "nbformat_minor": 5
}
